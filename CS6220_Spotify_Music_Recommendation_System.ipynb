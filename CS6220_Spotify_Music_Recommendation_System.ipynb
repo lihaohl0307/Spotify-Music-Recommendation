{
  "cells": [
    {
      "cell_type": "code",
      "execution_count": 1,
      "metadata": {
        "colab": {
          "base_uri": "https://localhost:8080/"
        },
        "id": "O3QApHVR5OMc",
        "outputId": "d33a9567-247a-42e2-d24f-5b1e08ef995b"
      },
      "outputs": [
        {
          "output_type": "stream",
          "name": "stdout",
          "text": [
            "Mounted at /content/drive\n"
          ]
        }
      ],
      "source": [
        "from google.colab import drive\n",
        "drive.mount('/content/drive')"
      ]
    },
    {
      "cell_type": "code",
      "execution_count": 2,
      "metadata": {
        "colab": {
          "base_uri": "https://localhost:8080/"
        },
        "id": "7Xjkx1Ks_pXY",
        "outputId": "baf536fd-beaa-47dc-c806-a816618d8c49"
      },
      "outputs": [
        {
          "output_type": "stream",
          "name": "stdout",
          "text": [
            "Collecting spotipy\n",
            "  Downloading spotipy-2.24.0-py3-none-any.whl.metadata (4.9 kB)\n",
            "Collecting redis>=3.5.3 (from spotipy)\n",
            "  Downloading redis-5.2.0-py3-none-any.whl.metadata (9.1 kB)\n",
            "Requirement already satisfied: requests>=2.25.0 in /usr/local/lib/python3.10/dist-packages (from spotipy) (2.32.3)\n",
            "Requirement already satisfied: urllib3>=1.26.0 in /usr/local/lib/python3.10/dist-packages (from spotipy) (2.2.3)\n",
            "Requirement already satisfied: async-timeout>=4.0.3 in /usr/local/lib/python3.10/dist-packages (from redis>=3.5.3->spotipy) (4.0.3)\n",
            "Requirement already satisfied: charset-normalizer<4,>=2 in /usr/local/lib/python3.10/dist-packages (from requests>=2.25.0->spotipy) (3.4.0)\n",
            "Requirement already satisfied: idna<4,>=2.5 in /usr/local/lib/python3.10/dist-packages (from requests>=2.25.0->spotipy) (3.10)\n",
            "Requirement already satisfied: certifi>=2017.4.17 in /usr/local/lib/python3.10/dist-packages (from requests>=2.25.0->spotipy) (2024.8.30)\n",
            "Downloading spotipy-2.24.0-py3-none-any.whl (30 kB)\n",
            "Downloading redis-5.2.0-py3-none-any.whl (261 kB)\n",
            "\u001b[2K   \u001b[90m━━━━━━━━━━━━━━━━━━━━━━━━━━━━━━━━━━━━━━━━\u001b[0m \u001b[32m261.4/261.4 kB\u001b[0m \u001b[31m10.2 MB/s\u001b[0m eta \u001b[36m0:00:00\u001b[0m\n",
            "\u001b[?25hInstalling collected packages: redis, spotipy\n",
            "Successfully installed redis-5.2.0 spotipy-2.24.0\n"
          ]
        }
      ],
      "source": [
        "!pip3 install spotipy"
      ]
    },
    {
      "cell_type": "code",
      "execution_count": 44,
      "metadata": {
        "id": "FUDjAqtf_yie"
      },
      "outputs": [],
      "source": [
        "import numpy as np\n",
        "import pandas as pd\n",
        "import matplotlib.pyplot as plt\n",
        "import seaborn as sns\n",
        "import plotly.express as px\n",
        "\n",
        "from sklearn.cluster import KMeans\n",
        "from sklearn.preprocessing import StandardScaler\n",
        "from sklearn.pipeline import Pipeline\n",
        "from sklearn.manifold import TSNE\n",
        "from sklearn.decomposition import PCA\n",
        "from sklearn.metrics import euclidean_distances\n",
        "from scipy.spatial.distance import cdist"
      ]
    },
    {
      "cell_type": "markdown",
      "metadata": {
        "id": "7eGCh0CsNpNe"
      },
      "source": [
        "### Data Import"
      ]
    },
    {
      "cell_type": "code",
      "execution_count": 54,
      "metadata": {
        "id": "Os0wXrZr_mPg"
      },
      "outputs": [],
      "source": [
        "data = pd.read_csv(\"/content/drive/My Drive/spotify-dataset/data/data.csv\")\n",
        "genre_data = pd.read_csv('/content/drive/My Drive/spotify-dataset/data/data_by_genres.csv')"
      ]
    },
    {
      "cell_type": "code",
      "execution_count": 55,
      "metadata": {
        "id": "JrP7XmxVzIWl"
      },
      "outputs": [],
      "source": [
        "song_cluster_pipeline = Pipeline([('scaler', StandardScaler()),\n",
        "                                  ('kmeans', KMeans(n_clusters=20,\n",
        "                                   verbose=False))\n",
        "                                 ], verbose=False)\n",
        "\n",
        "X = data.select_dtypes(np.number)\n",
        "number_cols = list(X.columns)\n",
        "song_cluster_pipeline.fit(X)\n",
        "song_cluster_labels = song_cluster_pipeline.predict(X)\n",
        "data['cluster_label'] = song_cluster_labels"
      ]
    },
    {
      "cell_type": "markdown",
      "metadata": {
        "id": "D-MOqktRNgde"
      },
      "source": [
        "### Connect to Spotify API"
      ]
    },
    {
      "cell_type": "code",
      "execution_count": 8,
      "metadata": {
        "id": "JLOvU1YLN6D1"
      },
      "outputs": [],
      "source": [
        "import spotipy\n",
        "from spotipy.oauth2 import SpotifyClientCredentials\n",
        "client_id = \"7d79fe83da984659b5581054295c34c9\"\n",
        "client_secret = \"432302ce5805441dac55670e8a6144bd\"\n",
        "client_credentials_manager = SpotifyClientCredentials(client_id=client_id, client_secret=client_secret)\n",
        "sp = spotipy.Spotify(client_credentials_manager=client_credentials_manager)"
      ]
    },
    {
      "cell_type": "code",
      "execution_count": 9,
      "metadata": {
        "colab": {
          "base_uri": "https://localhost:8080/"
        },
        "id": "AHa9ejp7Oaur",
        "outputId": "b8460159-c5e2-47a0-9605-0deabe23bda4"
      },
      "outputs": [
        {
          "output_type": "execute_result",
          "data": {
            "text/plain": [
              "[{'external_urls': {'spotify': 'https://open.spotify.com/artist/3fMbdgg4jU18AjLCKBhRSm'},\n",
              "  'href': 'https://api.spotify.com/v1/artists/3fMbdgg4jU18AjLCKBhRSm',\n",
              "  'id': '3fMbdgg4jU18AjLCKBhRSm',\n",
              "  'name': 'Michael Jackson',\n",
              "  'type': 'artist',\n",
              "  'uri': 'spotify:artist:3fMbdgg4jU18AjLCKBhRSm'}]"
            ]
          },
          "metadata": {},
          "execution_count": 9
        }
      ],
      "source": [
        "# API testing\n",
        "name = [\"Micheal Jackson\",\"pitbull\",\"Christina\",\"Elvis Presley\"]\n",
        "result = sp.search(name)\n",
        "result['tracks']['items'][2]['artists']"
      ]
    },
    {
      "cell_type": "markdown",
      "metadata": {
        "id": "luHl2Icn_Eyw"
      },
      "source": [
        "## Recommendation Based on Mean Vector & Cosine Similarity"
      ]
    },
    {
      "cell_type": "code",
      "execution_count": 10,
      "metadata": {
        "id": "fNShrhtZQzFS"
      },
      "outputs": [],
      "source": [
        "import spotipy\n",
        "from spotipy.oauth2 import SpotifyClientCredentials\n",
        "from collections import defaultdict\n",
        "\n",
        "\n",
        "def find_song(name, year):\n",
        "    song_data = defaultdict()\n",
        "    results = sp.search(q= 'track: {} year: {}'.format(name,year), limit=1)\n",
        "    if results['tracks']['items'] == []:\n",
        "        return None\n",
        "\n",
        "    results = results['tracks']['items'][0]\n",
        "    track_id = results['id']\n",
        "    audio_features = sp.audio_features(track_id)[0]\n",
        "\n",
        "    song_data['name'] = [name]\n",
        "    song_data['year'] = [year]\n",
        "    song_data['explicit'] = [int(results['explicit'])]\n",
        "    song_data['duration_ms'] = [results['duration_ms']]\n",
        "    song_data['popularity'] = [results['popularity']]\n",
        "\n",
        "    for key, value in audio_features.items():\n",
        "        song_data[key] = value\n",
        "\n",
        "    return pd.DataFrame(song_data)"
      ]
    },
    {
      "cell_type": "code",
      "execution_count": 11,
      "metadata": {
        "id": "R1HP0VzhQ5Qp"
      },
      "outputs": [],
      "source": [
        "from collections import defaultdict\n",
        "from sklearn.metrics import euclidean_distances\n",
        "from scipy.spatial.distance import cdist\n",
        "import difflib\n",
        "\n",
        "number_cols = ['valence', 'year', 'acousticness', 'danceability', 'duration_ms', 'energy', 'explicit',\n",
        " 'instrumentalness', 'key', 'liveness', 'loudness', 'mode', 'popularity', 'speechiness', 'tempo']\n",
        "\n",
        "\n",
        "def get_song_data(song, spotify_data):\n",
        "\n",
        "    try:\n",
        "        song_data = spotify_data[(spotify_data['name'] == song['name'])\n",
        "                                & (spotify_data['year'] == song['year'])].iloc[0]\n",
        "        return song_data\n",
        "\n",
        "    except IndexError:\n",
        "        return find_song(song['name'], song['year'])\n",
        "\n",
        "\n",
        "def get_mean_vector(song_list, spotify_data):\n",
        "    song_vectors = []\n",
        "\n",
        "    for song in song_list:\n",
        "        song_data = get_song_data(song, spotify_data)\n",
        "        if song_data is None or not isinstance(song_data, pd.Series):\n",
        "            print(f'Warning: {song[\"name\"]} does not exist in Spotify or in database')\n",
        "            continue\n",
        "\n",
        "        song_vector = song_data[number_cols].values\n",
        "        song_vectors.append(song_vector)\n",
        "\n",
        "    if len(song_vectors) == 0:\n",
        "        raise ValueError(\"No valid song data found. Cannot compute mean vector.\")\n",
        "\n",
        "    # Ensure all vectors have the same shape\n",
        "    song_matrix = np.vstack(song_vectors)\n",
        "    return np.mean(song_matrix, axis=0)\n",
        "\n",
        "\n",
        "def flatten_dict_list(dict_list):\n",
        "\n",
        "    flattened_dict = defaultdict()\n",
        "    for key in dict_list[0].keys():\n",
        "        flattened_dict[key] = []\n",
        "\n",
        "    for dictionary in dict_list:\n",
        "        for key, value in dictionary.items():\n",
        "            flattened_dict[key].append(value)\n",
        "\n",
        "    return flattened_dict\n",
        "\n",
        "\n",
        "def recommend_songs(song_list, spotify_data, n_songs=10):\n",
        "\n",
        "    metadata_cols = ['name', 'year', 'artists']\n",
        "    song_dict = flatten_dict_list(song_list)\n",
        "\n",
        "    song_center = get_mean_vector(song_list, spotify_data)\n",
        "    scaler = song_cluster_pipeline.steps[0][1]\n",
        "    scaled_data = scaler.transform(spotify_data[number_cols])\n",
        "    scaled_song_center = scaler.transform(song_center.reshape(1, -1))\n",
        "    distances = cdist(scaled_song_center, scaled_data, 'cosine')\n",
        "    index = list(np.argsort(distances)[:, :n_songs][0])\n",
        "\n",
        "    rec_songs = spotify_data.iloc[index]\n",
        "    rec_songs = rec_songs[~rec_songs['name'].isin(song_dict['name'])]\n",
        "    return rec_songs[metadata_cols].to_dict(orient='records')"
      ]
    },
    {
      "cell_type": "code",
      "execution_count": 12,
      "metadata": {
        "colab": {
          "base_uri": "https://localhost:8080/"
        },
        "id": "s_jb7U6WQ-nT",
        "outputId": "7e0142b5-18b8-4cb0-c02c-87220276cb1f"
      },
      "outputs": [
        {
          "output_type": "stream",
          "name": "stderr",
          "text": [
            "/usr/local/lib/python3.10/dist-packages/sklearn/base.py:493: UserWarning: X does not have valid feature names, but StandardScaler was fitted with feature names\n",
            "  warnings.warn(\n"
          ]
        },
        {
          "output_type": "execute_result",
          "data": {
            "text/plain": [
              "[{'name': 'Hanging By A Moment', 'year': 2000, 'artists': \"['Lifehouse']\"},\n",
              " {'name': 'Kiss Me', 'year': 1997, 'artists': \"['Sixpence None The Richer']\"},\n",
              " {'name': \"Breakfast At Tiffany's\",\n",
              "  'year': 1995,\n",
              "  'artists': \"['Deep Blue Something']\"},\n",
              " {'name': 'Otherside', 'year': 1999, 'artists': \"['Red Hot Chili Peppers']\"},\n",
              " {'name': \"It's Not Living (If It's Not With You)\",\n",
              "  'year': 2018,\n",
              "  'artists': \"['The 1975']\"},\n",
              " {'name': 'No Excuses', 'year': 1994, 'artists': \"['Alice In Chains']\"},\n",
              " {'name': 'Wherever You Will Go', 'year': 2001, 'artists': \"['The Calling']\"},\n",
              " {'name': 'Ballbreaker', 'year': 1995, 'artists': \"['AC/DC']\"},\n",
              " {'name': 'Runaway (U & I)', 'year': 2015, 'artists': \"['Galantis']\"},\n",
              " {'name': \"Club Can't Handle Me (feat. David Guetta)\",\n",
              "  'year': 2010,\n",
              "  'artists': \"['Flo Rida', 'David Guetta']\"}]"
            ]
          },
          "metadata": {},
          "execution_count": 12
        }
      ],
      "source": [
        "recommend_songs([{'name': 'Come As You Are', 'year':1991},\n",
        "                {'name': 'Smells Like Teen Spirit', 'year': 1991},\n",
        "                {'name': 'Lithium', 'year': 1992},\n",
        "                {'name': 'All Apologies', 'year': 1993}\n",
        "                 ],  data)"
      ]
    },
    {
      "cell_type": "markdown",
      "metadata": {
        "id": "O077OF4ZD-5h"
      },
      "source": [
        "## K-means"
      ]
    },
    {
      "cell_type": "code",
      "execution_count": 46,
      "metadata": {
        "colab": {
          "base_uri": "https://localhost:8080/"
        },
        "id": "DisoqJ1lEAYf",
        "outputId": "785c021b-efc2-4a98-9d10-0f96da0fa981"
      },
      "outputs": [
        {
          "output_type": "stream",
          "name": "stdout",
          "text": [
            "Number of components selected: 10\n",
            "Explained variance ratio: [0.25730985 0.12498319 0.09818916 0.09240748 0.08111295 0.07534458\n",
            " 0.07188715 0.06907634 0.05765154 0.03206347]\n"
          ]
        }
      ],
      "source": [
        "# Load your data (replace with your file paths)\n",
        "songs_df = pd.read_csv('/content/drive/My Drive/spotify-dataset/data/data.csv')\n",
        "\n",
        "# Step 1: Feature Selection\n",
        "selected_features = ['acousticness', 'danceability', 'energy', 'instrumentalness',\n",
        "                     'liveness', 'loudness', 'speechiness', 'valence', 'tempo',\n",
        "                     'duration_ms', 'key', 'mode']\n",
        "\n",
        "# Step 2: Scaling the Features\n",
        "scaler = StandardScaler()\n",
        "scaled_features = scaler.fit_transform(songs_df[selected_features])\n",
        "\n",
        "# Step 3: PCA for Dimensionality Reduction\n",
        "# Retain 95% of the variance\n",
        "pca = PCA(n_components=0.95, random_state=42)\n",
        "pca_features = pca.fit_transform(scaled_features)\n",
        "\n",
        "# Explained variance ratio\n",
        "explained_variance = pca.explained_variance_ratio_\n",
        "cumulative_variance = np.cumsum(explained_variance)\n",
        "\n",
        "# Print explained variance ratio\n",
        "print(f\"Number of components selected: {pca.n_components_}\")\n",
        "print(f\"Explained variance ratio: {pca.explained_variance_ratio_}\")"
      ]
    },
    {
      "cell_type": "code",
      "source": [
        "# Step 4: Plotting\n",
        "plt.figure(figsize=(10, 7))\n",
        "plt.plot(cumulative_variance, color='k', lw=2)\n",
        "plt.xlabel('Number of components')\n",
        "plt.ylabel('Total explained variance')\n",
        "plt.xlim(0, len(cumulative_variance))\n",
        "plt.yticks(np.arange(0, 1.1, 0.1))\n",
        "plt.axvline(pca.n_components_, c='b', label=f'{pca.n_components_} components')\n",
        "plt.axhline(0.95, c='r', label='95% variance')\n",
        "plt.legend()\n",
        "plt.show()"
      ],
      "metadata": {
        "colab": {
          "base_uri": "https://localhost:8080/",
          "height": 624
        },
        "id": "wBg4pqr0FV0t",
        "outputId": "616f2912-9ec9-4519-b2cc-d9f8f585ef2a"
      },
      "execution_count": 48,
      "outputs": [
        {
          "output_type": "display_data",
          "data": {
            "text/plain": [
              "<Figure size 1000x700 with 1 Axes>"
            ],
            "image/png": "[encoded data removed]"
          },
          "metadata": {}
        }
      ]
    },
    {
      "cell_type": "code",
      "source": [
        "# Step 4: Create a DataFrame for Principal Component Loadings\n",
        "# Each column shows how much a feature contributes to a principal component\n",
        "loadings = pd.DataFrame(\n",
        "    pca.components_.T,\n",
        "    columns=[f'Principal Component {i+1}' for i in range(pca.n_components_)],\n",
        "    index=selected_features\n",
        ")\n",
        "\n",
        "# Display the loadings DataFrame\n",
        "print(\"Feature Contributions to Principal Components:\")\n",
        "print(loadings)"
      ],
      "metadata": {
        "colab": {
          "base_uri": "https://localhost:8080/"
        },
        "id": "mmN4EA_GG7UR",
        "outputId": "e7c2f35c-750e-4331-d077-573578c0097f"
      },
      "execution_count": 50,
      "outputs": [
        {
          "output_type": "stream",
          "name": "stdout",
          "text": [
            "Feature Contributions to Principal Components:\n",
            "                  Principal Component 1  Principal Component 2  \\\n",
            "acousticness                  -0.440481               0.215932   \n",
            "danceability                   0.306516               0.508978   \n",
            "energy                         0.490527              -0.263143   \n",
            "instrumentalness              -0.313767              -0.123150   \n",
            "liveness                       0.042022              -0.115393   \n",
            "loudness                       0.473749              -0.203820   \n",
            "speechiness                    0.025323               0.430630   \n",
            "valence                        0.325461               0.390311   \n",
            "tempo                          0.193530              -0.134148   \n",
            "duration_ms                   -0.039905              -0.444167   \n",
            "key                            0.026775               0.044407   \n",
            "mode                          -0.020607              -0.003063   \n",
            "\n",
            "                  Principal Component 3  Principal Component 4  \\\n",
            "acousticness                   0.109889               0.002785   \n",
            "danceability                   0.010506              -0.122159   \n",
            "energy                        -0.028918              -0.003388   \n",
            "instrumentalness               0.054949              -0.201663   \n",
            "liveness                      -0.462210               0.573986   \n",
            "loudness                       0.073230              -0.026215   \n",
            "speechiness                   -0.500903               0.325372   \n",
            "valence                        0.179075              -0.091805   \n",
            "tempo                          0.134479               0.044367   \n",
            "duration_ms                   -0.256035              -0.049096   \n",
            "key                           -0.374866              -0.492194   \n",
            "mode                           0.507763               0.503303   \n",
            "\n",
            "                  Principal Component 5  Principal Component 6  \\\n",
            "acousticness                   0.147294               0.046512   \n",
            "danceability                  -0.262163              -0.050390   \n",
            "energy                         0.002194               0.018561   \n",
            "instrumentalness               0.118086              -0.239915   \n",
            "liveness                       0.272623               0.169624   \n",
            "loudness                      -0.043507               0.132329   \n",
            "speechiness                   -0.056969              -0.233331   \n",
            "valence                        0.111136              -0.057577   \n",
            "tempo                          0.661487              -0.545469   \n",
            "duration_ms                   -0.428879              -0.142510   \n",
            "key                            0.424891               0.569864   \n",
            "mode                           0.042173               0.436763   \n",
            "\n",
            "                  Principal Component 7  Principal Component 8  \\\n",
            "acousticness                   0.170231               0.053650   \n",
            "danceability                   0.105016               0.246072   \n",
            "energy                         0.125154              -0.034870   \n",
            "instrumentalness               0.457221               0.289198   \n",
            "liveness                       0.504049               0.019959   \n",
            "loudness                       0.068593              -0.133595   \n",
            "speechiness                   -0.354493               0.100453   \n",
            "valence                        0.409188               0.323997   \n",
            "tempo                         -0.287119               0.199128   \n",
            "duration_ms                   -0.075928               0.649330   \n",
            "key                           -0.199129               0.257321   \n",
            "mode                          -0.235697               0.436935   \n",
            "\n",
            "                  Principal Component 9  Principal Component 10  \n",
            "acousticness                  -0.386113               -0.483190  \n",
            "danceability                  -0.058606                0.489637  \n",
            "energy                         0.277192               -0.195270  \n",
            "instrumentalness               0.650771               -0.006204  \n",
            "liveness                      -0.160745                0.228427  \n",
            "loudness                      -0.014514               -0.419015  \n",
            "speechiness                    0.345405               -0.376879  \n",
            "valence                       -0.165223               -0.304893  \n",
            "tempo                         -0.177278                0.128182  \n",
            "duration_ms                   -0.303970               -0.094061  \n",
            "key                            0.054059                0.015771  \n",
            "mode                           0.218502                0.018360  \n"
          ]
        }
      ]
    },
    {
      "cell_type": "code",
      "source": [
        "# Step 5: Create and Display DataFrame\n",
        "components_df = pd.DataFrame({\n",
        "    'Principal Component': [f'PC{i+1}' for i in range(len(explained_variance))],\n",
        "    'Explained Variance': explained_variance,\n",
        "    'Cumulative Variance': cumulative_variance\n",
        "})\n",
        "\n",
        "# Print the DataFrame\n",
        "print(\"\\nExplained Variance for Principal Components:\")\n",
        "print(components_df)"
      ],
      "metadata": {
        "colab": {
          "base_uri": "https://localhost:8080/"
        },
        "id": "HljN_T2JF7nQ",
        "outputId": "cbc4d49b-849e-43be-ea9d-576aec7f4849"
      },
      "execution_count": 51,
      "outputs": [
        {
          "output_type": "stream",
          "name": "stdout",
          "text": [
            "\n",
            "Explained Variance for Principal Components:\n",
            "  Principal Component  Explained Variance  Cumulative Variance\n",
            "0                 PC1            0.257310             0.257310\n",
            "1                 PC2            0.124983             0.382293\n",
            "2                 PC3            0.098189             0.480482\n",
            "3                 PC4            0.092407             0.572890\n",
            "4                 PC5            0.081113             0.654003\n",
            "5                 PC6            0.075345             0.729347\n",
            "6                 PC7            0.071887             0.801234\n",
            "7                 PC8            0.069076             0.870311\n",
            "8                 PC9            0.057652             0.927962\n",
            "9                PC10            0.032063             0.960026\n"
          ]
        }
      ]
    },
    {
      "cell_type": "code",
      "execution_count": 14,
      "metadata": {
        "colab": {
          "base_uri": "https://localhost:8080/",
          "height": 487
        },
        "id": "N0P5KmY3EoLA",
        "outputId": "76414d4f-ef3a-4b89-f13a-bc4848b787f3"
      },
      "outputs": [
        {
          "output_type": "display_data",
          "data": {
            "text/plain": [
              "<Figure size 800x500 with 1 Axes>"
            ],
            "image/png": "[encoded data removed]"
          },
          "metadata": {}
        }
      ],
      "source": [
        "# Step 4: Determine Optimal k (Elbow Method)\n",
        "inertias = []\n",
        "k_values = range(5, 30)\n",
        "\n",
        "for k in k_values:\n",
        "    kmeans = KMeans(n_clusters=k, random_state=42)\n",
        "    kmeans.fit(pca_features)\n",
        "    inertias.append(kmeans.inertia_)\n",
        "\n",
        "# Plot the Elbow Graph\n",
        "plt.figure(figsize=(8, 5))\n",
        "plt.plot(k_values, inertias, 'bo-')\n",
        "plt.xlabel('Number of clusters (k)')\n",
        "plt.ylabel('Inertia')\n",
        "plt.title('Elbow Method for Optimal k')\n",
        "plt.show()"
      ]
    },
    {
      "cell_type": "code",
      "execution_count": 38,
      "metadata": {
        "id": "WvkGVsXnE4xB"
      },
      "outputs": [],
      "source": [
        "# Step 5: Apply k-Means with Optimal k\n",
        "optimal_k = 8\n",
        "kmeans = KMeans(n_clusters=optimal_k, random_state=42)\n",
        "kmeans.fit(pca_features)\n",
        "\n",
        "# Assign clusters to the original DataFrame\n",
        "songs_df['cluster'] = kmeans.labels_"
      ]
    },
    {
      "cell_type": "code",
      "execution_count": 39,
      "metadata": {
        "id": "XaujPILeHGXf"
      },
      "outputs": [],
      "source": [
        "# Function to retrieve song data from Spotify API\n",
        "def find_song_from_spotify(name, year):\n",
        "    song_data = defaultdict()\n",
        "    results = sp.search(q=f'track:{name} year:{year}', limit=1)\n",
        "    if results['tracks']['items'] == []:\n",
        "        return None\n",
        "\n",
        "    results = results['tracks']['items'][0]\n",
        "    track_id = results['id']\n",
        "    audio_features = sp.audio_features(track_id)[0]\n",
        "\n",
        "    # Basic metadata\n",
        "    song_data['name'] = results['name']\n",
        "    song_data['artists'] = ', '.join([artist['name'] for artist in results['artists']])\n",
        "    song_data['year'] = year\n",
        "    song_data['duration_ms'] = results['duration_ms']\n",
        "    song_data['explicit'] = int(results['explicit'])\n",
        "\n",
        "    # Audio features\n",
        "    for key, value in audio_features.items():\n",
        "        if key in selected_features:\n",
        "            song_data[key] = value\n",
        "\n",
        "    return song_data"
      ]
    },
    {
      "cell_type": "code",
      "execution_count": 40,
      "metadata": {
        "id": "vHVy24eBH0Ep"
      },
      "outputs": [],
      "source": [
        "def recommend_songs_kmeans_with_api(song_names, songs_df, pca_model, scaler, kmeans_model, n_recommendations=10):\n",
        "    # Ensure 'cluster' column exists\n",
        "    if 'cluster' not in songs_df.columns:\n",
        "        raise KeyError(\"'cluster' column not found in songs_df. Ensure k-means clustering is performed.\")\n",
        "\n",
        "    clusters = []\n",
        "    input_song_names = []\n",
        "    new_songs = []  # Store newly added songs for dynamic clustering\n",
        "\n",
        "    for song_name, year in song_names:\n",
        "        matched_songs = songs_df[songs_df['name'].str.lower() == song_name.lower()]\n",
        "        if matched_songs.empty:\n",
        "            print(f\"Song '{song_name}' not found in the dataset. Fetching from Spotify...\")\n",
        "            # Attempt to fetch song from Spotify API\n",
        "            spotify_song_data = find_song_from_spotify(song_name, year)  # Replace 2022 with dynamic input\n",
        "            if spotify_song_data:\n",
        "                new_songs.append(spotify_song_data)\n",
        "                print(f\"Added '{spotify_song_data['name']}' from Spotify.\")\n",
        "            else:\n",
        "                print(f\"Could not find '{song_name}' on Spotify.\")\n",
        "            continue\n",
        "\n",
        "        input_song_names.append(song_name.lower())\n",
        "        song_clusters = matched_songs['cluster'].unique()\n",
        "        clusters.extend(song_clusters)\n",
        "\n",
        "    # Dynamically cluster new songs (if any)\n",
        "    if new_songs:\n",
        "        new_songs_df = pd.DataFrame(new_songs)\n",
        "        scaled_new_features = scaler.transform(new_songs_df[selected_features])\n",
        "        pca_new_features = pca_model.transform(scaled_new_features)\n",
        "        new_clusters = kmeans_model.predict(pca_new_features)\n",
        "        new_songs_df['cluster'] = new_clusters\n",
        "        songs_df = pd.concat([songs_df, new_songs_df], ignore_index=True)\n",
        "        clusters.extend(new_clusters)\n",
        "\n",
        "    if not clusters:\n",
        "        print(\"No matching songs found in the dataset or Spotify.\")\n",
        "        return []\n",
        "\n",
        "    # Unique clusters\n",
        "    clusters = list(set(clusters))\n",
        "\n",
        "    # Songs in the same cluster(s)\n",
        "    recommended_songs = songs_df[songs_df['cluster'].isin(clusters)]\n",
        "\n",
        "    # Exclude input songs\n",
        "    recommended_songs = recommended_songs[~recommended_songs['name'].str.lower().isin(input_song_names)]\n",
        "\n",
        "    # Randomly select recommendations\n",
        "    recommended_songs = recommended_songs.sample(n=n_recommendations, random_state=42)\n",
        "    return recommended_songs[['name', 'artists', 'cluster']]\n"
      ]
    },
    {
      "cell_type": "code",
      "execution_count": 41,
      "metadata": {
        "colab": {
          "base_uri": "https://localhost:8080/"
        },
        "id": "5N8B3zctHLAy",
        "outputId": "9a7086a7-9a57-490f-e47e-a55622efbb29"
      },
      "outputs": [
        {
          "output_type": "stream",
          "name": "stdout",
          "text": [
            "                          name                                    artists  \\\n",
            "149854        Living Testimony             ['Doug Williams', 'Joe Ligon']   \n",
            "12661                    Conga  ['Gloria Estefan', 'Miami Sound Machine']   \n",
            "18269        How Country Feels                           ['Randy Houser']   \n",
            "90776            Volví a Nacer                           ['Carlos Vives']   \n",
            "56847                   Casper                                ['Takeoff']   \n",
            "34437            Brand New Key                                ['Melanie']   \n",
            "153866  Taking Pictures Of You                              ['The Kooks']   \n",
            "52556              Nour El Ein                               ['Amr Diab']   \n",
            "63534       She Don't Love You                             ['Mary Wells']   \n",
            "65091        I Gotta Get Drunk                          ['Willie Nelson']   \n",
            "\n",
            "        cluster  \n",
            "149854        1  \n",
            "12661         1  \n",
            "18269         1  \n",
            "90776         1  \n",
            "56847         1  \n",
            "34437         1  \n",
            "153866        1  \n",
            "52556         1  \n",
            "63534         1  \n",
            "65091         1  \n"
          ]
        }
      ],
      "source": [
        "# Test input\n",
        "input_songs = [{'name': 'Come As You Are', 'year':1991},\n",
        "                {'name': 'Smells Like Teen Spirit', 'year': 1991},\n",
        "                {'name': 'Lithium', 'year': 1992},\n",
        "                {'name': 'All Apologies', 'year': 1993},\n",
        "                {'name': 'Stay Away', 'year': 1993}]\n",
        "\n",
        "# Get recommendations\n",
        "recommendations = recommend_songs_kmeans_with_api(\n",
        "    input_songs,\n",
        "    songs_df,\n",
        "    pca_model=pca,\n",
        "    scaler=scaler,\n",
        "    kmeans_model=kmeans,\n",
        "    n_recommendations=10\n",
        ")\n",
        "\n",
        "# Display recommendations\n",
        "print(recommendations)"
      ]
    },
    {
      "cell_type": "markdown",
      "metadata": {
        "id": "r-K5cW4KPO1C"
      },
      "source": [
        "## Weighted Genre"
      ]
    },
    {
      "cell_type": "code",
      "execution_count": 20,
      "metadata": {
        "id": "JlDbyKsDPoj3"
      },
      "outputs": [],
      "source": [
        "# Import necessary libraries\n",
        "import pandas as pd\n",
        "import numpy as np\n",
        "from sklearn.preprocessing import StandardScaler, OneHotEncoder\n",
        "from scipy.spatial.distance import cdist\n",
        "from collections import defaultdict"
      ]
    },
    {
      "cell_type": "code",
      "execution_count": 21,
      "metadata": {
        "id": "Bn5auJsiQstw"
      },
      "outputs": [],
      "source": [
        "# Define feature columns\n",
        "number_cols = ['acousticness', 'danceability', 'energy', 'instrumentalness',\n",
        "               'liveness', 'loudness', 'speechiness', 'valence', 'tempo',\n",
        "               'duration_ms', 'key', 'mode']"
      ]
    },
    {
      "cell_type": "code",
      "execution_count": 22,
      "metadata": {
        "id": "2M0Jh3jYQuU3"
      },
      "outputs": [],
      "source": [
        "def classify_songs_by_genre(songs_df, genre_df, feature_columns):\n",
        "    \"\"\"\n",
        "    Assign each song in the songs_df to the closest genre based on shared features in genre_df.\n",
        "    \"\"\"\n",
        "    # Ensure all features are numeric and explicitly cast to float64\n",
        "    songs_df[feature_columns] = songs_df[feature_columns].apply(pd.to_numeric, errors='coerce').fillna(songs_df[feature_columns].mean())\n",
        "    genre_df[feature_columns] = genre_df[feature_columns].apply(pd.to_numeric, errors='coerce').fillna(genre_df[feature_columns].mean())\n",
        "\n",
        "    # Extract genre features and explicitly cast to float64\n",
        "    genre_features = genre_df[feature_columns].values.astype(np.float64)\n",
        "    classified_genres = []\n",
        "\n",
        "    for _, song in songs_df.iterrows():\n",
        "        # Extract features for the current song and explicitly cast to float64\n",
        "        song_features = song[feature_columns].values.reshape(1, -1).astype(np.float64)\n",
        "\n",
        "        # Compute distances between the song and all genres\n",
        "        distances = cdist(song_features, genre_features, metric='euclidean')\n",
        "\n",
        "        # Assign the closest genre\n",
        "        closest_genre_index = distances.argmin()\n",
        "        closest_genre = genre_df.iloc[closest_genre_index]['genres']\n",
        "        classified_genres.append(closest_genre)\n",
        "\n",
        "    # Add the classified genres to the songs DataFrame\n",
        "    songs_df['classified_genre'] = classified_genres\n",
        "    return songs_df"
      ]
    },
    {
      "cell_type": "code",
      "execution_count": 23,
      "metadata": {
        "id": "nCF8NrkwQ6Ih"
      },
      "outputs": [],
      "source": [
        "# Classify songs into different genres\n",
        "songs_df = classify_songs_by_genre(songs_data, genre_data, number_cols)"
      ]
    },
    {
      "cell_type": "code",
      "execution_count": 24,
      "metadata": {
        "colab": {
          "base_uri": "https://localhost:8080/",
          "height": 496
        },
        "id": "m8jWqyqfSeku",
        "outputId": "2ee0ef28-94d8-4a83-9dd0-b531f9e04398"
      },
      "outputs": [
        {
          "output_type": "execute_result",
          "data": {
            "text/plain": [
              "   valence  year  acousticness  \\\n",
              "0   0.0594  1921         0.982   \n",
              "1   0.9630  1921         0.732   \n",
              "2   0.0394  1921         0.961   \n",
              "3   0.1650  1921         0.967   \n",
              "4   0.2530  1921         0.957   \n",
              "\n",
              "                                             artists  danceability  \\\n",
              "0  ['Sergei Rachmaninoff', 'James Levine', 'Berli...         0.279   \n",
              "1                                     ['Dennis Day']         0.819   \n",
              "2  ['KHP Kridhamardawa Karaton Ngayogyakarta Hadi...         0.328   \n",
              "3                                   ['Frank Parker']         0.275   \n",
              "4                                     ['Phil Regan']         0.418   \n",
              "\n",
              "   duration_ms  energy  explicit                      id  instrumentalness  \\\n",
              "0       831667   0.211         0  4BJqT0PrAfrxzMOxytFOIz          0.878000   \n",
              "1       180533   0.341         0  7xPhfUan2yNtyFG0cUWkt8          0.000000   \n",
              "2       500062   0.166         0  1o6I8BglA6ylDMrIELygv1          0.913000   \n",
              "3       210000   0.309         0  3ftBPsC5vPBKxYSee08FDH          0.000028   \n",
              "4       166693   0.193         0  4d6HGyGT8e121BsdKmw9v6          0.000002   \n",
              "\n",
              "   key  liveness  loudness  mode  \\\n",
              "0   10     0.665   -20.096     1   \n",
              "1    7     0.160   -12.441     1   \n",
              "2    3     0.101   -14.850     1   \n",
              "3    5     0.381    -9.316     1   \n",
              "4    3     0.229   -10.096     1   \n",
              "\n",
              "                                                name  popularity release_date  \\\n",
              "0  Piano Concerto No. 3 in D Minor, Op. 30: III. ...           4         1921   \n",
              "1                            Clancy Lowered the Boom           5         1921   \n",
              "2                                          Gati Bali           5         1921   \n",
              "3                                          Danny Boy           3         1921   \n",
              "4                        When Irish Eyes Are Smiling           2         1921   \n",
              "\n",
              "   speechiness    tempo       classified_genre  \n",
              "0       0.0366   80.954         hungarian folk  \n",
              "1       0.4150   60.936             black punk  \n",
              "2       0.0339  110.339        modern big band  \n",
              "3       0.0354  100.109  italian mezzo-soprano  \n",
              "4       0.0380  101.665    vintage swedish pop  "
            ],
            "text/html": [
              "\n",
              "  <div id=\"df-f678a74e-ccb0-4044-bf2a-0ed09516a1ea\" class=\"colab-df-container\">\n",
              "    <div>\n",
              "<style scoped>\n",
              "    .dataframe tbody tr th:only-of-type {\n",
              "        vertical-align: middle;\n",
              "    }\n",
              "\n",
              "    .dataframe tbody tr th {\n",
              "        vertical-align: top;\n",
              "    }\n",
              "\n",
              "    .dataframe thead th {\n",
              "        text-align: right;\n",
              "    }\n",
              "</style>\n",
              "<table border=\"1\" class=\"dataframe\">\n",
              "  <thead>\n",
              "    <tr style=\"text-align: right;\">\n",
              "      <th></th>\n",
              "      <th>valence</th>\n",
              "      <th>year</th>\n",
              "      <th>acousticness</th>\n",
              "      <th>artists</th>\n",
              "      <th>danceability</th>\n",
              "      <th>duration_ms</th>\n",
              "      <th>energy</th>\n",
              "      <th>explicit</th>\n",
              "      <th>id</th>\n",
              "      <th>instrumentalness</th>\n",
              "      <th>key</th>\n",
              "      <th>liveness</th>\n",
              "      <th>loudness</th>\n",
              "      <th>mode</th>\n",
              "      <th>name</th>\n",
              "      <th>popularity</th>\n",
              "      <th>release_date</th>\n",
              "      <th>speechiness</th>\n",
              "      <th>tempo</th>\n",
              "      <th>classified_genre</th>\n",
              "    </tr>\n",
              "  </thead>\n",
              "  <tbody>\n",
              "    <tr>\n",
              "      <th>0</th>\n",
              "      <td>0.0594</td>\n",
              "      <td>1921</td>\n",
              "      <td>0.982</td>\n",
              "      <td>['Sergei Rachmaninoff', 'James Levine', 'Berli...</td>\n",
              "      <td>0.279</td>\n",
              "      <td>831667</td>\n",
              "      <td>0.211</td>\n",
              "      <td>0</td>\n",
              "      <td>4BJqT0PrAfrxzMOxytFOIz</td>\n",
              "      <td>0.878000</td>\n",
              "      <td>10</td>\n",
              "      <td>0.665</td>\n",
              "      <td>-20.096</td>\n",
              "      <td>1</td>\n",
              "      <td>Piano Concerto No. 3 in D Minor, Op. 30: III. ...</td>\n",
              "      <td>4</td>\n",
              "      <td>1921</td>\n",
              "      <td>0.0366</td>\n",
              "      <td>80.954</td>\n",
              "      <td>hungarian folk</td>\n",
              "    </tr>\n",
              "    <tr>\n",
              "      <th>1</th>\n",
              "      <td>0.9630</td>\n",
              "      <td>1921</td>\n",
              "      <td>0.732</td>\n",
              "      <td>['Dennis Day']</td>\n",
              "      <td>0.819</td>\n",
              "      <td>180533</td>\n",
              "      <td>0.341</td>\n",
              "      <td>0</td>\n",
              "      <td>7xPhfUan2yNtyFG0cUWkt8</td>\n",
              "      <td>0.000000</td>\n",
              "      <td>7</td>\n",
              "      <td>0.160</td>\n",
              "      <td>-12.441</td>\n",
              "      <td>1</td>\n",
              "      <td>Clancy Lowered the Boom</td>\n",
              "      <td>5</td>\n",
              "      <td>1921</td>\n",
              "      <td>0.4150</td>\n",
              "      <td>60.936</td>\n",
              "      <td>black punk</td>\n",
              "    </tr>\n",
              "    <tr>\n",
              "      <th>2</th>\n",
              "      <td>0.0394</td>\n",
              "      <td>1921</td>\n",
              "      <td>0.961</td>\n",
              "      <td>['KHP Kridhamardawa Karaton Ngayogyakarta Hadi...</td>\n",
              "      <td>0.328</td>\n",
              "      <td>500062</td>\n",
              "      <td>0.166</td>\n",
              "      <td>0</td>\n",
              "      <td>1o6I8BglA6ylDMrIELygv1</td>\n",
              "      <td>0.913000</td>\n",
              "      <td>3</td>\n",
              "      <td>0.101</td>\n",
              "      <td>-14.850</td>\n",
              "      <td>1</td>\n",
              "      <td>Gati Bali</td>\n",
              "      <td>5</td>\n",
              "      <td>1921</td>\n",
              "      <td>0.0339</td>\n",
              "      <td>110.339</td>\n",
              "      <td>modern big band</td>\n",
              "    </tr>\n",
              "    <tr>\n",
              "      <th>3</th>\n",
              "      <td>0.1650</td>\n",
              "      <td>1921</td>\n",
              "      <td>0.967</td>\n",
              "      <td>['Frank Parker']</td>\n",
              "      <td>0.275</td>\n",
              "      <td>210000</td>\n",
              "      <td>0.309</td>\n",
              "      <td>0</td>\n",
              "      <td>3ftBPsC5vPBKxYSee08FDH</td>\n",
              "      <td>0.000028</td>\n",
              "      <td>5</td>\n",
              "      <td>0.381</td>\n",
              "      <td>-9.316</td>\n",
              "      <td>1</td>\n",
              "      <td>Danny Boy</td>\n",
              "      <td>3</td>\n",
              "      <td>1921</td>\n",
              "      <td>0.0354</td>\n",
              "      <td>100.109</td>\n",
              "      <td>italian mezzo-soprano</td>\n",
              "    </tr>\n",
              "    <tr>\n",
              "      <th>4</th>\n",
              "      <td>0.2530</td>\n",
              "      <td>1921</td>\n",
              "      <td>0.957</td>\n",
              "      <td>['Phil Regan']</td>\n",
              "      <td>0.418</td>\n",
              "      <td>166693</td>\n",
              "      <td>0.193</td>\n",
              "      <td>0</td>\n",
              "      <td>4d6HGyGT8e121BsdKmw9v6</td>\n",
              "      <td>0.000002</td>\n",
              "      <td>3</td>\n",
              "      <td>0.229</td>\n",
              "      <td>-10.096</td>\n",
              "      <td>1</td>\n",
              "      <td>When Irish Eyes Are Smiling</td>\n",
              "      <td>2</td>\n",
              "      <td>1921</td>\n",
              "      <td>0.0380</td>\n",
              "      <td>101.665</td>\n",
              "      <td>vintage swedish pop</td>\n",
              "    </tr>\n",
              "  </tbody>\n",
              "</table>\n",
              "</div>\n",
              "    <div class=\"colab-df-buttons\">\n",
              "\n",
              "  <div class=\"colab-df-container\">\n",
              "    <button class=\"colab-df-convert\" onclick=\"convertToInteractive('df-f678a74e-ccb0-4044-bf2a-0ed09516a1ea')\"\n",
              "            title=\"Convert this dataframe to an interactive table.\"\n",
              "            style=\"display:none;\">\n",
              "\n",
              "  <svg xmlns=\"http://www.w3.org/2000/svg\" height=\"24px\" viewBox=\"0 -960 960 960\">\n",
              "    <path d=\"M120-120v-720h720v720H120Zm60-500h600v-160H180v160Zm220 220h160v-160H400v160Zm0 220h160v-160H400v160ZM180-400h160v-160H180v160Zm440 0h160v-160H620v160ZM180-180h160v-160H180v160Zm440 0h160v-160H620v160Z\"/>\n",
              "  </svg>\n",
              "    </button>\n",
              "\n",
              "  <style>\n",
              "    .colab-df-container {\n",
              "      display:flex;\n",
              "      gap: 12px;\n",
              "    }\n",
              "\n",
              "    .colab-df-convert {\n",
              "      background-color: #E8F0FE;\n",
              "      border: none;\n",
              "      border-radius: 50%;\n",
              "      cursor: pointer;\n",
              "      display: none;\n",
              "      fill: #1967D2;\n",
              "      height: 32px;\n",
              "      padding: 0 0 0 0;\n",
              "      width: 32px;\n",
              "    }\n",
              "\n",
              "    .colab-df-convert:hover {\n",
              "      background-color: #E2EBFA;\n",
              "      box-shadow: 0px 1px 2px rgba(60, 64, 67, 0.3), 0px 1px 3px 1px rgba(60, 64, 67, 0.15);\n",
              "      fill: #174EA6;\n",
              "    }\n",
              "\n",
              "    .colab-df-buttons div {\n",
              "      margin-bottom: 4px;\n",
              "    }\n",
              "\n",
              "    [theme=dark] .colab-df-convert {\n",
              "      background-color: #3B4455;\n",
              "      fill: #D2E3FC;\n",
              "    }\n",
              "\n",
              "    [theme=dark] .colab-df-convert:hover {\n",
              "      background-color: #434B5C;\n",
              "      box-shadow: 0px 1px 3px 1px rgba(0, 0, 0, 0.15);\n",
              "      filter: drop-shadow(0px 1px 2px rgba(0, 0, 0, 0.3));\n",
              "      fill: #FFFFFF;\n",
              "    }\n",
              "  </style>\n",
              "\n",
              "    <script>\n",
              "      const buttonEl =\n",
              "        document.querySelector('#df-f678a74e-ccb0-4044-bf2a-0ed09516a1ea button.colab-df-convert');\n",
              "      buttonEl.style.display =\n",
              "        google.colab.kernel.accessAllowed ? 'block' : 'none';\n",
              "\n",
              "      async function convertToInteractive(key) {\n",
              "        const element = document.querySelector('#df-f678a74e-ccb0-4044-bf2a-0ed09516a1ea');\n",
              "        const dataTable =\n",
              "          await google.colab.kernel.invokeFunction('convertToInteractive',\n",
              "                                                    [key], {});\n",
              "        if (!dataTable) return;\n",
              "\n",
              "        const docLinkHtml = 'Like what you see? Visit the ' +\n",
              "          '<a target=\"_blank\" href=https://colab.research.google.com/notebooks/data_table.ipynb>data table notebook</a>'\n",
              "          + ' to learn more about interactive tables.';\n",
              "        element.innerHTML = '';\n",
              "        dataTable['output_type'] = 'display_data';\n",
              "        await google.colab.output.renderOutput(dataTable, element);\n",
              "        const docLink = document.createElement('div');\n",
              "        docLink.innerHTML = docLinkHtml;\n",
              "        element.appendChild(docLink);\n",
              "      }\n",
              "    </script>\n",
              "  </div>\n",
              "\n",
              "\n",
              "<div id=\"df-69ffa8f3-10f1-4a83-8653-b54b1c35ea55\">\n",
              "  <button class=\"colab-df-quickchart\" onclick=\"quickchart('df-69ffa8f3-10f1-4a83-8653-b54b1c35ea55')\"\n",
              "            title=\"Suggest charts\"\n",
              "            style=\"display:none;\">\n",
              "\n",
              "<svg xmlns=\"http://www.w3.org/2000/svg\" height=\"24px\"viewBox=\"0 0 24 24\"\n",
              "     width=\"24px\">\n",
              "    <g>\n",
              "        <path d=\"M19 3H5c-1.1 0-2 .9-2 2v14c0 1.1.9 2 2 2h14c1.1 0 2-.9 2-2V5c0-1.1-.9-2-2-2zM9 17H7v-7h2v7zm4 0h-2V7h2v10zm4 0h-2v-4h2v4z\"/>\n",
              "    </g>\n",
              "</svg>\n",
              "  </button>\n",
              "\n",
              "<style>\n",
              "  .colab-df-quickchart {\n",
              "      --bg-color: #E8F0FE;\n",
              "      --fill-color: #1967D2;\n",
              "      --hover-bg-color: #E2EBFA;\n",
              "      --hover-fill-color: #174EA6;\n",
              "      --disabled-fill-color: #AAA;\n",
              "      --disabled-bg-color: #DDD;\n",
              "  }\n",
              "\n",
              "  [theme=dark] .colab-df-quickchart {\n",
              "      --bg-color: #3B4455;\n",
              "      --fill-color: #D2E3FC;\n",
              "      --hover-bg-color: #434B5C;\n",
              "      --hover-fill-color: #FFFFFF;\n",
              "      --disabled-bg-color: #3B4455;\n",
              "      --disabled-fill-color: #666;\n",
              "  }\n",
              "\n",
              "  .colab-df-quickchart {\n",
              "    background-color: var(--bg-color);\n",
              "    border: none;\n",
              "    border-radius: 50%;\n",
              "    cursor: pointer;\n",
              "    display: none;\n",
              "    fill: var(--fill-color);\n",
              "    height: 32px;\n",
              "    padding: 0;\n",
              "    width: 32px;\n",
              "  }\n",
              "\n",
              "  .colab-df-quickchart:hover {\n",
              "    background-color: var(--hover-bg-color);\n",
              "    box-shadow: 0 1px 2px rgba(60, 64, 67, 0.3), 0 1px 3px 1px rgba(60, 64, 67, 0.15);\n",
              "    fill: var(--button-hover-fill-color);\n",
              "  }\n",
              "\n",
              "  .colab-df-quickchart-complete:disabled,\n",
              "  .colab-df-quickchart-complete:disabled:hover {\n",
              "    background-color: var(--disabled-bg-color);\n",
              "    fill: var(--disabled-fill-color);\n",
              "    box-shadow: none;\n",
              "  }\n",
              "\n",
              "  .colab-df-spinner {\n",
              "    border: 2px solid var(--fill-color);\n",
              "    border-color: transparent;\n",
              "    border-bottom-color: var(--fill-color);\n",
              "    animation:\n",
              "      spin 1s steps(1) infinite;\n",
              "  }\n",
              "\n",
              "  @keyframes spin {\n",
              "    0% {\n",
              "      border-color: transparent;\n",
              "      border-bottom-color: var(--fill-color);\n",
              "      border-left-color: var(--fill-color);\n",
              "    }\n",
              "    20% {\n",
              "      border-color: transparent;\n",
              "      border-left-color: var(--fill-color);\n",
              "      border-top-color: var(--fill-color);\n",
              "    }\n",
              "    30% {\n",
              "      border-color: transparent;\n",
              "      border-left-color: var(--fill-color);\n",
              "      border-top-color: var(--fill-color);\n",
              "      border-right-color: var(--fill-color);\n",
              "    }\n",
              "    40% {\n",
              "      border-color: transparent;\n",
              "      border-right-color: var(--fill-color);\n",
              "      border-top-color: var(--fill-color);\n",
              "    }\n",
              "    60% {\n",
              "      border-color: transparent;\n",
              "      border-right-color: var(--fill-color);\n",
              "    }\n",
              "    80% {\n",
              "      border-color: transparent;\n",
              "      border-right-color: var(--fill-color);\n",
              "      border-bottom-color: var(--fill-color);\n",
              "    }\n",
              "    90% {\n",
              "      border-color: transparent;\n",
              "      border-bottom-color: var(--fill-color);\n",
              "    }\n",
              "  }\n",
              "</style>\n",
              "\n",
              "  <script>\n",
              "    async function quickchart(key) {\n",
              "      const quickchartButtonEl =\n",
              "        document.querySelector('#' + key + ' button');\n",
              "      quickchartButtonEl.disabled = true;  // To prevent multiple clicks.\n",
              "      quickchartButtonEl.classList.add('colab-df-spinner');\n",
              "      try {\n",
              "        const charts = await google.colab.kernel.invokeFunction(\n",
              "            'suggestCharts', [key], {});\n",
              "      } catch (error) {\n",
              "        console.error('Error during call to suggestCharts:', error);\n",
              "      }\n",
              "      quickchartButtonEl.classList.remove('colab-df-spinner');\n",
              "      quickchartButtonEl.classList.add('colab-df-quickchart-complete');\n",
              "    }\n",
              "    (() => {\n",
              "      let quickchartButtonEl =\n",
              "        document.querySelector('#df-69ffa8f3-10f1-4a83-8653-b54b1c35ea55 button');\n",
              "      quickchartButtonEl.style.display =\n",
              "        google.colab.kernel.accessAllowed ? 'block' : 'none';\n",
              "    })();\n",
              "  </script>\n",
              "</div>\n",
              "\n",
              "    </div>\n",
              "  </div>\n"
            ],
            "application/vnd.google.colaboratory.intrinsic+json": {
              "type": "dataframe",
              "variable_name": "songs_df"
            }
          },
          "metadata": {},
          "execution_count": 24
        }
      ],
      "source": [
        "songs_df.head()"
      ]
    },
    {
      "cell_type": "code",
      "execution_count": 25,
      "metadata": {
        "id": "nbr3q8EpTnKp"
      },
      "outputs": [],
      "source": [
        "def add_genre_vector(songs_df):\n",
        "    \"\"\"\n",
        "    Add one-hot encoded genre vectors to the songs dataset.\n",
        "    \"\"\"\n",
        "    # One-hot encode the genres\n",
        "    genre_encoder = OneHotEncoder(sparse_output=False)\n",
        "    genre_encoded = genre_encoder.fit_transform(songs_df[['classified_genre']])\n",
        "    songs_df['genre_vector'] = list(genre_encoded)\n",
        "    return songs_df, genre_encoder\n",
        "\n",
        "# Add genre vectors\n",
        "songs_df, genre_encoder = add_genre_vector(songs_df)"
      ]
    },
    {
      "cell_type": "code",
      "execution_count": 26,
      "metadata": {
        "id": "JvfqgwgFU6gt"
      },
      "outputs": [],
      "source": [
        "# Define feature weights\n",
        "feature_weights = {\n",
        "    'valence': 1.0,\n",
        "    'year': 0.5,\n",
        "    'acousticness': 1.0,\n",
        "    'danceability': 1.5,\n",
        "    'duration_ms': 0.5,\n",
        "    'energy': 2.0,\n",
        "    'explicit': 0.1,\n",
        "    'instrumentalness': 1.0,\n",
        "    'key': 0.2,\n",
        "    'liveness': 1.0,\n",
        "    'loudness': 1.5,\n",
        "    'mode': 0.5,\n",
        "    'popularity': 1.0,\n",
        "    'speechiness': 1.0,\n",
        "    'tempo': 1.5,\n",
        "    'genre': 1.0  # Weight for genre vector\n",
        "}\n",
        "\n",
        "def get_song_vector_with_weights(song, spotify_data, feature_weights):\n",
        "    \"\"\"\n",
        "    Retrieve the combined song vector (features + genre) with applied weights.\n",
        "    If the song is not found in the dataset, fetch it from Spotify API.\n",
        "    \"\"\"\n",
        "    try:\n",
        "        # Try to retrieve the song from the dataset\n",
        "        song_data = spotify_data[(spotify_data['name'].str.lower() == song['name'].lower()) &\n",
        "                                 (spotify_data['year'] == song['year'])].iloc[0]\n",
        "    except IndexError:\n",
        "        # Song not found in dataset, fetch from Spotify API\n",
        "        print(f\"Fetching '{song['name']}' from Spotify API...\")\n",
        "        song_data = find_song_from_spotify(song['name'], song['year'])\n",
        "        if song_data is None:\n",
        "            print(f\"Could not find '{song['name']}' on Spotify.\")\n",
        "            return None\n",
        "\n",
        "    # Combine numerical features and genre vector\n",
        "    feature_vector = song_data[number_cols].values if isinstance(song_data, pd.Series) else song_data[number_cols].to_numpy()\n",
        "    genre_vector = np.zeros(len(spotify_data['genre_vector'].iloc[0]))  # Default no genre vector if fetched from API\n",
        "    if 'genre_vector' in song_data and isinstance(song_data['genre_vector'], np.ndarray):\n",
        "        genre_vector = np.array(song_data['genre_vector'])\n",
        "\n",
        "    combined_vector = np.concatenate([feature_vector, genre_vector])\n",
        "\n",
        "    # Apply weights to the vector\n",
        "    weighted_features = np.array([feature_vector[i] * feature_weights[col] for i, col in enumerate(number_cols)])\n",
        "    weighted_genre = genre_vector * feature_weights['genre']\n",
        "    return np.concatenate([weighted_features, weighted_genre])"
      ]
    },
    {
      "cell_type": "code",
      "execution_count": 31,
      "metadata": {
        "id": "hs-eA4QzU_QO"
      },
      "outputs": [],
      "source": [
        "def get_weighted_average_vector(song_list, spotify_data, feature_weights):\n",
        "    \"\"\"\n",
        "    Compute a weighted average vector for the input songs, including genre influence.\n",
        "    \"\"\"\n",
        "    vectors = []\n",
        "    weights = []\n",
        "\n",
        "    for song in song_list:\n",
        "        try:\n",
        "            # Try to retrieve the combined song vector\n",
        "            song_vector = get_song_vector_with_weights(song, spotify_data, feature_weights)\n",
        "            if song_vector is not None:\n",
        "                vectors.append(song_vector)\n",
        "                weights.append(1.0)  # Adjust weights dynamically if needed\n",
        "        except Exception as e:\n",
        "            print(f\"Warning: Could not process '{song['name']}' due to {e}. Skipping...\")\n",
        "            continue\n",
        "\n",
        "    if len(vectors) == 0:\n",
        "        raise ValueError(\"No valid song vectors found.\")\n",
        "\n",
        "    vectors = np.vstack(vectors)\n",
        "    weights = np.array(weights).reshape(-1, 1)\n",
        "    return np.average(vectors, axis=0, weights=weights.flatten())"
      ]
    },
    {
      "cell_type": "code",
      "execution_count": 32,
      "metadata": {
        "id": "szVsPd5NVFdC"
      },
      "outputs": [],
      "source": [
        "def recommend_songs_with_genre(song_list, spotify_data, n_songs=10):\n",
        "    \"\"\"\n",
        "    Recommend songs based on weighted vectors and genre influence.\n",
        "    \"\"\"\n",
        "    metadata_cols = ['name', 'year', 'artists', 'classified_genre']\n",
        "\n",
        "    # Step 1: Compute the weighted average vector for the input songs\n",
        "    song_center = get_weighted_average_vector(song_list, spotify_data, feature_weights)\n",
        "\n",
        "    # Step 2: Scale only the numerical features\n",
        "    scaler = StandardScaler()\n",
        "    scaled_data = scaler.fit_transform(spotify_data[number_cols])  # Scale numerical features\n",
        "    scaled_song_center = scaler.transform([song_center[:len(number_cols)]])  # Scale only the numerical part of the input vector\n",
        "\n",
        "    # Step 3: Combine scaled numerical features with genre vectors\n",
        "    genre_vectors = np.array(list(spotify_data['genre_vector']))\n",
        "    combined_data = np.hstack([scaled_data, genre_vectors])  # Combine scaled numerical and genre vectors\n",
        "    combined_song_center = np.hstack([scaled_song_center[0], song_center[len(number_cols):]])  # Combine input features\n",
        "\n",
        "    # Step 4: Compute distances and find nearest songs\n",
        "    distances = cdist([combined_song_center], combined_data, 'cosine')\n",
        "    index = list(np.argsort(distances)[:, :n_songs][0])\n",
        "\n",
        "    # Exclude input songs from recommendations\n",
        "    rec_songs = spotify_data.iloc[index]\n",
        "    rec_songs = rec_songs[~rec_songs['name'].isin([song['name'] for song in song_list])]\n",
        "    return rec_songs[metadata_cols].to_dict(orient='records')\n"
      ]
    },
    {
      "cell_type": "code",
      "execution_count": 33,
      "metadata": {
        "colab": {
          "base_uri": "https://localhost:8080/"
        },
        "id": "7ZO7H1r7VHpG",
        "outputId": "5a88cb07-6e62-4035-94fd-a2ce28a7be08"
      },
      "outputs": [
        {
          "output_type": "stream",
          "name": "stderr",
          "text": [
            "ERROR:spotipy.client:HTTP Error for GET to https://api.spotify.com/v1/audio-features/?ids=5Aa0IaY12vHUtB4KmdsUyn with Params: {} returned 403 due to None\n"
          ]
        },
        {
          "output_type": "stream",
          "name": "stdout",
          "text": [
            "Fetching 'Stay Away' from Spotify API...\n",
            "Warning: Could not process 'Stay Away' due to http status: 403, code:-1 - https://api.spotify.com/v1/audio-features/?ids=5Aa0IaY12vHUtB4KmdsUyn:\n",
            " None, reason: None. Skipping...\n"
          ]
        },
        {
          "output_type": "stream",
          "name": "stderr",
          "text": [
            "/usr/local/lib/python3.10/dist-packages/sklearn/base.py:493: UserWarning: X does not have valid feature names, but StandardScaler was fitted with feature names\n",
            "  warnings.warn(\n"
          ]
        },
        {
          "output_type": "stream",
          "name": "stdout",
          "text": [
            "                                  name  year                        artists  \\\n",
            "0         We Got The Beat - Single Mix  1994                [\"The Go-Go's\"]   \n",
            "1       All I Ever Wanted - Radio Edit  2008                 ['Basshunter']   \n",
            "2                         Doctor Jones  1997                       ['Aqua']   \n",
            "3                         Nasty Habits  1981               ['Oingo Boingo']   \n",
            "4                      We Got The Beat  1981                [\"The Go-Go's\"]   \n",
            "5  Dam Dadi Doo - Nightcore Single Mix  2002  ['Fantasy Project feat. NDA']   \n",
            "6                    It Doesn't Matter  1986                       ['Ratt']   \n",
            "7             If You Could Be Anywhere  2010                 ['Tom Felton']   \n",
            "8                                Stain  1992                    ['Nirvana']   \n",
            "9                  Miracle - Radio Mix  2006                    ['Cascada']   \n",
            "\n",
            "         classified_genre  \n",
            "0     classic finnish pop  \n",
            "1         vintage chanson  \n",
            "2          banda caliente  \n",
            "3              rap kreyol  \n",
            "4                 doo-wop  \n",
            "5                scam rap  \n",
            "6        polish post-rock  \n",
            "7  traditional rockabilly  \n",
            "8    american early music  \n",
            "9        hard alternative  \n"
          ]
        }
      ],
      "source": [
        "# Test input songs\n",
        "input_songs = [{'name': 'Come As You Are', 'year':1991},\n",
        "                {'name': 'Smells Like Teen Spirit', 'year': 1991},\n",
        "                {'name': 'Lithium', 'year': 1992},\n",
        "                {'name': 'All Apologies', 'year': 1993},\n",
        "                {'name': 'Stay Away', 'year': 1993}\n",
        "               ]\n",
        "\n",
        "# Get recommendations\n",
        "recommendations = recommend_songs_with_genre(input_songs, songs_df, n_songs=10)\n",
        "\n",
        "# Convert recommendations to a DataFrame\n",
        "recommendations_df = pd.DataFrame(recommendations)\n",
        "\n",
        "# Display the DataFrame\n",
        "print(recommendations_df)"
      ]
    },
    {
      "cell_type": "code",
      "execution_count": null,
      "metadata": {
        "id": "S92aHCpaVhNl"
      },
      "outputs": [],
      "source": []
    }
  ],
  "metadata": {
    "colab": {
      "provenance": []
    },
    "kernelspec": {
      "display_name": "Python 3",
      "name": "python3"
    },
    "language_info": {
      "name": "python"
    }
  },
  "nbformat": 4,
  "nbformat_minor": 0
}