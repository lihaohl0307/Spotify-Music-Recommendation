{
  "cells": [
    {
      "cell_type": "markdown",
      "source": [
        "# **Final Project: Spotify Music Recommendation System**\n",
        "\n",
        "### Team Members:\n",
        "### placeholder\n"
      ],
      "metadata": {
        "id": "_57SFdLfWG5_"
      }
    },
    {
      "cell_type": "markdown",
      "source": [
        "### Package Installation"
      ],
      "metadata": {
        "id": "86r1DbxeWc1N"
      }
    },
    {
      "cell_type": "code",
      "source": [
        "from google.colab import drive\n",
        "drive.mount('/content/drive')"
      ],
      "metadata": {
        "colab": {
          "base_uri": "https://localhost:8080/"
        },
        "id": "7ewOlbQzWHfC",
        "outputId": "934df15b-cb1e-47f1-8e13-aaefaa022eda"
      },
      "execution_count": 74,
      "outputs": [
        {
          "output_type": "stream",
          "name": "stdout",
          "text": [
            "Drive already mounted at /content/drive; to attempt to forcibly remount, call drive.mount(\"/content/drive\", force_remount=True).\n"
          ]
        }
      ]
    },
    {
      "cell_type": "code",
      "execution_count": 75,
      "metadata": {
        "colab": {
          "base_uri": "https://localhost:8080/"
        },
        "id": "7Xjkx1Ks_pXY",
        "outputId": "dfda1fd3-c890-4acb-be39-245850c7d9ff"
      },
      "outputs": [
        {
          "output_type": "stream",
          "name": "stdout",
          "text": [
            "Requirement already satisfied: spotipy in /usr/local/lib/python3.10/dist-packages (2.24.0)\n",
            "Requirement already satisfied: redis>=3.5.3 in /usr/local/lib/python3.10/dist-packages (from spotipy) (5.2.0)\n",
            "Requirement already satisfied: requests>=2.25.0 in /usr/local/lib/python3.10/dist-packages (from spotipy) (2.32.3)\n",
            "Requirement already satisfied: urllib3>=1.26.0 in /usr/local/lib/python3.10/dist-packages (from spotipy) (2.2.3)\n",
            "Requirement already satisfied: async-timeout>=4.0.3 in /usr/local/lib/python3.10/dist-packages (from redis>=3.5.3->spotipy) (4.0.3)\n",
            "Requirement already satisfied: charset-normalizer<4,>=2 in /usr/local/lib/python3.10/dist-packages (from requests>=2.25.0->spotipy) (3.4.0)\n",
            "Requirement already satisfied: idna<4,>=2.5 in /usr/local/lib/python3.10/dist-packages (from requests>=2.25.0->spotipy) (3.10)\n",
            "Requirement already satisfied: certifi>=2017.4.17 in /usr/local/lib/python3.10/dist-packages (from requests>=2.25.0->spotipy) (2024.8.30)\n"
          ]
        }
      ],
      "source": [
        "!pip3 install spotipy"
      ]
    },
    {
      "cell_type": "code",
      "execution_count": 103,
      "metadata": {
        "id": "FUDjAqtf_yie"
      },
      "outputs": [],
      "source": [
        "import numpy as np\n",
        "import pandas as pd\n",
        "import matplotlib.pyplot as plt\n",
        "import seaborn as sns\n",
        "import plotly.express as px\n",
        "\n",
        "from sklearn.cluster import KMeans\n",
        "from sklearn.preprocessing import StandardScaler, LabelEncoder\n",
        "from sklearn.pipeline import Pipeline\n",
        "from sklearn.manifold import TSNE\n",
        "from sklearn.decomposition import PCA\n",
        "from sklearn.metrics import euclidean_distances\n",
        "from scipy.spatial.distance import cdist"
      ]
    },
    {
      "cell_type": "markdown",
      "metadata": {
        "id": "7eGCh0CsNpNe"
      },
      "source": [
        "### Data Import"
      ]
    },
    {
      "cell_type": "code",
      "execution_count": 77,
      "metadata": {
        "id": "Os0wXrZr_mPg"
      },
      "outputs": [],
      "source": [
        "data = pd.read_csv(\"/content/drive/My Drive/spotify-dataset/data/data.csv\")\n",
        "songs_data = pd.read_csv('/content/drive/My Drive/spotify-dataset/data/data.csv')\n",
        "genre_data = pd.read_csv('/content/drive/My Drive/spotify-dataset/data/data_by_genres.csv')"
      ]
    },
    {
      "cell_type": "code",
      "execution_count": 78,
      "metadata": {
        "id": "JrP7XmxVzIWl"
      },
      "outputs": [],
      "source": [
        "song_cluster_pipeline = Pipeline([('scaler', StandardScaler()),\n",
        "                                  ('kmeans', KMeans(n_clusters=20,\n",
        "                                   verbose=False))\n",
        "                                 ], verbose=False)\n",
        "\n",
        "X = data.select_dtypes(np.number)\n",
        "number_cols = list(X.columns)\n",
        "song_cluster_pipeline.fit(X)\n",
        "song_cluster_labels = song_cluster_pipeline.predict(X)\n",
        "data['cluster_label'] = song_cluster_labels"
      ]
    },
    {
      "cell_type": "markdown",
      "metadata": {
        "id": "D-MOqktRNgde"
      },
      "source": [
        "### Connect to Spotify API"
      ]
    },
    {
      "cell_type": "code",
      "execution_count": 79,
      "metadata": {
        "id": "JLOvU1YLN6D1"
      },
      "outputs": [],
      "source": [
        "import spotipy\n",
        "from spotipy.oauth2 import SpotifyClientCredentials\n",
        "client_id = \"7d79fe83da984659b5581054295c34c9\"\n",
        "client_secret = \"432302ce5805441dac55670e8a6144bd\"\n",
        "client_credentials_manager = SpotifyClientCredentials(client_id=client_id, client_secret=client_secret)\n",
        "sp = spotipy.Spotify(client_credentials_manager=client_credentials_manager)"
      ]
    },
    {
      "cell_type": "code",
      "execution_count": 80,
      "metadata": {
        "colab": {
          "base_uri": "https://localhost:8080/"
        },
        "id": "AHa9ejp7Oaur",
        "outputId": "f7c6d65a-cdbe-4941-fe70-0aa8f6793cec"
      },
      "outputs": [
        {
          "output_type": "execute_result",
          "data": {
            "text/plain": [
              "[{'external_urls': {'spotify': 'https://open.spotify.com/artist/3fMbdgg4jU18AjLCKBhRSm'},\n",
              "  'href': 'https://api.spotify.com/v1/artists/3fMbdgg4jU18AjLCKBhRSm',\n",
              "  'id': '3fMbdgg4jU18AjLCKBhRSm',\n",
              "  'name': 'Michael Jackson',\n",
              "  'type': 'artist',\n",
              "  'uri': 'spotify:artist:3fMbdgg4jU18AjLCKBhRSm'}]"
            ]
          },
          "metadata": {},
          "execution_count": 80
        }
      ],
      "source": [
        "# API testing\n",
        "name = [\"Michael Jackson\",\"pitbull\",\"Christina\",\"Elvis Presley\"]\n",
        "result = sp.search(name)\n",
        "result['tracks']['items'][1]['artists']"
      ]
    },
    {
      "cell_type": "markdown",
      "metadata": {
        "id": "O077OF4ZD-5h"
      },
      "source": [
        "## K-means clustering on songs"
      ]
    },
    {
      "cell_type": "code",
      "execution_count": 84,
      "metadata": {
        "id": "DisoqJ1lEAYf"
      },
      "outputs": [],
      "source": [
        "# Reload data in seperate data frame\n",
        "songs_df = pd.read_csv('/content/drive/My Drive/spotify-dataset/data/data.csv')\n",
        "\n",
        "selected_features = ['acousticness', 'danceability', 'energy', 'instrumentalness',\n",
        "                     'liveness', 'loudness', 'speechiness', 'valence', 'tempo',\n",
        "                     'duration_ms', 'key', 'mode']"
      ]
    },
    {
      "cell_type": "markdown",
      "source": [
        "### PCA for Dimensionality Reduction (retain 95% variance)"
      ],
      "metadata": {
        "id": "iJdwUJEycpsF"
      }
    },
    {
      "cell_type": "code",
      "source": [
        "# Standardize the Features\n",
        "scaler = StandardScaler()\n",
        "scaled_features = scaler.fit_transform(songs_df[selected_features])\n",
        "\n",
        "pca = PCA(n_components=0.95, random_state=42) # 95%\n",
        "pca_features = pca.fit_transform(scaled_features)\n",
        "\n",
        "explained_variance = pca.explained_variance_ratio_\n",
        "cumulative_variance = np.cumsum(explained_variance)\n",
        "\n",
        "print(f\"Number of components selected: {pca.n_components_}\")\n",
        "print(f\"Explained variance ratio: {pca.explained_variance_ratio_}\")"
      ],
      "metadata": {
        "colab": {
          "base_uri": "https://localhost:8080/"
        },
        "id": "1kLHRm2Gck52",
        "outputId": "ffb2bd1b-bb12-4287-c4f2-30b1560cfcb3"
      },
      "execution_count": 85,
      "outputs": [
        {
          "output_type": "stream",
          "name": "stdout",
          "text": [
            "Number of components selected: 10\n",
            "Explained variance ratio: [0.25730985 0.12498319 0.09818916 0.09240748 0.08111295 0.07534458\n",
            " 0.07188715 0.06907634 0.05765154 0.03206347]\n"
          ]
        }
      ]
    },
    {
      "cell_type": "code",
      "source": [
        "# Calculate Cumulative Variance for Full Components\n",
        "pca_full = PCA(random_state=42)\n",
        "pca_full.fit(scaled_features)\n",
        "explained_variance_full = pca_full.explained_variance_ratio_\n",
        "cumulative_variance_full = np.cumsum(explained_variance_full)\n",
        "\n",
        "# Plot total explained variance\n",
        "plt.figure(figsize=(8, 6))\n",
        "plt.plot(range(1, len(cumulative_variance_full) + 1), cumulative_variance_full, color='black', label=\"Cumulative Explained Variance\")\n",
        "plt.axhline(y=0.95, color='red', linestyle='--', label=\"95% Variance Threshold\")\n",
        "plt.axvline(x=pca.n_components_, color='blue', linestyle='--', label=f\"{pca.n_components_} Components\")\n",
        "\n",
        "plt.xlabel('Number of Components')\n",
        "plt.ylabel('Total Explained Variance')\n",
        "plt.title('Explained Variance vs Number of Components')\n",
        "plt.legend(loc='lower right')\n",
        "plt.grid(True)\n",
        "plt.show()\n",
        "\n",
        "# plt.figure(figsize=(10, 7))\n",
        "# plt.plot(cumulative_variance, color='k', lw=2)\n",
        "# plt.xlabel('Number of components')\n",
        "# plt.ylabel('Total explained variance')\n",
        "# plt.xlim(0, len(selected_features))\n",
        "# plt.yticks(np.arange(0, 1.1, 0.1))\n",
        "# plt.axvline(pca.n_components_, c='b', label=f'{pca.n_components_} components')\n",
        "# plt.axhline(0.95, c='r', label='95% variance')\n",
        "# plt.legend()\n",
        "# plt.show()"
      ],
      "metadata": {
        "colab": {
          "base_uri": "https://localhost:8080/",
          "height": 564
        },
        "id": "wBg4pqr0FV0t",
        "outputId": "396bdf57-3db8-485f-aaf1-98fc00284f79"
      },
      "execution_count": 86,
      "outputs": [
        {
          "output_type": "display_data",
          "data": {
            "text/plain": [
              "<Figure size 800x600 with 1 Axes>"
            ],
            "image/png": "[encoded data removed]"
          },
          "metadata": {}
        }
      ]
    },
    {
      "cell_type": "code",
      "source": [
        "# Principal Component Loadings - detailed weighted features for each PC\n",
        "loadings = pd.DataFrame(\n",
        "    pca.components_.T,\n",
        "    columns=[f'Principal Component {i+1}' for i in range(pca.n_components_)],\n",
        "    index=selected_features\n",
        ")\n",
        "\n",
        "print(\"Feature Contributions to Principal Components:\")\n",
        "print(loadings)"
      ],
      "metadata": {
        "colab": {
          "base_uri": "https://localhost:8080/"
        },
        "id": "mmN4EA_GG7UR",
        "outputId": "28239516-0cd7-4239-d042-7e4be3048f05"
      },
      "execution_count": 87,
      "outputs": [
        {
          "output_type": "stream",
          "name": "stdout",
          "text": [
            "Feature Contributions to Principal Components:\n",
            "                  Principal Component 1  Principal Component 2  \\\n",
            "acousticness                  -0.440481               0.215932   \n",
            "danceability                   0.306516               0.508978   \n",
            "energy                         0.490527              -0.263143   \n",
            "instrumentalness              -0.313767              -0.123150   \n",
            "liveness                       0.042022              -0.115393   \n",
            "loudness                       0.473749              -0.203820   \n",
            "speechiness                    0.025323               0.430630   \n",
            "valence                        0.325461               0.390311   \n",
            "tempo                          0.193530              -0.134148   \n",
            "duration_ms                   -0.039905              -0.444167   \n",
            "key                            0.026775               0.044407   \n",
            "mode                          -0.020607              -0.003063   \n",
            "\n",
            "                  Principal Component 3  Principal Component 4  \\\n",
            "acousticness                   0.109889               0.002785   \n",
            "danceability                   0.010506              -0.122159   \n",
            "energy                        -0.028918              -0.003388   \n",
            "instrumentalness               0.054949              -0.201663   \n",
            "liveness                      -0.462210               0.573986   \n",
            "loudness                       0.073230              -0.026215   \n",
            "speechiness                   -0.500903               0.325372   \n",
            "valence                        0.179075              -0.091805   \n",
            "tempo                          0.134479               0.044367   \n",
            "duration_ms                   -0.256035              -0.049096   \n",
            "key                           -0.374866              -0.492194   \n",
            "mode                           0.507763               0.503303   \n",
            "\n",
            "                  Principal Component 5  Principal Component 6  \\\n",
            "acousticness                   0.147294               0.046512   \n",
            "danceability                  -0.262163              -0.050390   \n",
            "energy                         0.002194               0.018561   \n",
            "instrumentalness               0.118086              -0.239915   \n",
            "liveness                       0.272623               0.169624   \n",
            "loudness                      -0.043507               0.132329   \n",
            "speechiness                   -0.056969              -0.233331   \n",
            "valence                        0.111136              -0.057577   \n",
            "tempo                          0.661487              -0.545469   \n",
            "duration_ms                   -0.428879              -0.142510   \n",
            "key                            0.424891               0.569864   \n",
            "mode                           0.042173               0.436763   \n",
            "\n",
            "                  Principal Component 7  Principal Component 8  \\\n",
            "acousticness                   0.170231               0.053650   \n",
            "danceability                   0.105016               0.246072   \n",
            "energy                         0.125154              -0.034870   \n",
            "instrumentalness               0.457221               0.289198   \n",
            "liveness                       0.504049               0.019959   \n",
            "loudness                       0.068593              -0.133595   \n",
            "speechiness                   -0.354493               0.100453   \n",
            "valence                        0.409188               0.323997   \n",
            "tempo                         -0.287119               0.199128   \n",
            "duration_ms                   -0.075928               0.649330   \n",
            "key                           -0.199129               0.257321   \n",
            "mode                          -0.235697               0.436935   \n",
            "\n",
            "                  Principal Component 9  Principal Component 10  \n",
            "acousticness                  -0.386113               -0.483190  \n",
            "danceability                  -0.058606                0.489637  \n",
            "energy                         0.277192               -0.195270  \n",
            "instrumentalness               0.650771               -0.006204  \n",
            "liveness                      -0.160745                0.228427  \n",
            "loudness                      -0.014514               -0.419015  \n",
            "speechiness                    0.345405               -0.376879  \n",
            "valence                       -0.165223               -0.304893  \n",
            "tempo                         -0.177278                0.128182  \n",
            "duration_ms                   -0.303970               -0.094061  \n",
            "key                            0.054059                0.015771  \n",
            "mode                           0.218502                0.018360  \n"
          ]
        }
      ]
    },
    {
      "cell_type": "code",
      "source": [
        "# PC and explained variance display\n",
        "components_df = pd.DataFrame({\n",
        "    'Principal Component': [f'PC{i+1}' for i in range(len(explained_variance))],\n",
        "    'Explained Variance': explained_variance,\n",
        "    'Cumulative Variance': cumulative_variance\n",
        "})\n",
        "\n",
        "print(\"\\nExplained Variance for Principal Components:\")\n",
        "print(components_df)"
      ],
      "metadata": {
        "colab": {
          "base_uri": "https://localhost:8080/"
        },
        "id": "HljN_T2JF7nQ",
        "outputId": "6c55352d-28fc-4da8-8777-3614ce40f631"
      },
      "execution_count": 88,
      "outputs": [
        {
          "output_type": "stream",
          "name": "stdout",
          "text": [
            "\n",
            "Explained Variance for Principal Components:\n",
            "  Principal Component  Explained Variance  Cumulative Variance\n",
            "0                 PC1            0.257310             0.257310\n",
            "1                 PC2            0.124983             0.382293\n",
            "2                 PC3            0.098189             0.480482\n",
            "3                 PC4            0.092407             0.572890\n",
            "4                 PC5            0.081113             0.654003\n",
            "5                 PC6            0.075345             0.729347\n",
            "6                 PC7            0.071887             0.801234\n",
            "7                 PC8            0.069076             0.870311\n",
            "8                 PC9            0.057652             0.927962\n",
            "9                PC10            0.032063             0.960026\n"
          ]
        }
      ]
    },
    {
      "cell_type": "markdown",
      "source": [
        "### Elbow Method to determine optimal k for clustering"
      ],
      "metadata": {
        "id": "H8MOt9xFgH4A"
      }
    },
    {
      "cell_type": "code",
      "execution_count": 89,
      "metadata": {
        "colab": {
          "base_uri": "https://localhost:8080/",
          "height": 487
        },
        "id": "N0P5KmY3EoLA",
        "outputId": "016c2e56-114a-45cf-b275-95351f293a65"
      },
      "outputs": [
        {
          "output_type": "display_data",
          "data": {
            "text/plain": [
              "<Figure size 800x500 with 1 Axes>"
            ],
            "image/png": "[encoded data removed]"
          },
          "metadata": {}
        }
      ],
      "source": [
        "inertias = []\n",
        "k_values = range(5, 30)\n",
        "\n",
        "for k in k_values:\n",
        "    kmeans = KMeans(n_clusters=k, random_state=42)\n",
        "    kmeans.fit(pca_features)\n",
        "    inertias.append(kmeans.inertia_)\n",
        "\n",
        "plt.figure(figsize=(8, 5))\n",
        "plt.plot(k_values, inertias, 'bo-')\n",
        "plt.xlabel('Number of clusters (k)')\n",
        "plt.ylabel('Inertia')\n",
        "plt.title('Elbow Method for Optimal k')\n",
        "plt.show()"
      ]
    },
    {
      "cell_type": "markdown",
      "source": [
        "### Apply K-means Clustering"
      ],
      "metadata": {
        "id": "dPxF72x-gVPq"
      }
    },
    {
      "cell_type": "code",
      "execution_count": 90,
      "metadata": {
        "id": "WvkGVsXnE4xB"
      },
      "outputs": [],
      "source": [
        "optimal_k = 8\n",
        "kmeans = KMeans(n_clusters=optimal_k, random_state=42)\n",
        "kmeans.fit(pca_features)\n",
        "\n",
        "# Assign clusters to the original DataFrame\n",
        "songs_df['cluster'] = kmeans.labels_"
      ]
    },
    {
      "cell_type": "code",
      "execution_count": 91,
      "metadata": {
        "id": "XaujPILeHGXf"
      },
      "outputs": [],
      "source": [
        "# Function to retrieve song data from Spotify API\n",
        "def find_song_from_spotify(name, year):\n",
        "    song_data = defaultdict()\n",
        "    results = sp.search(q=f'track:{name} year:{year}', limit=1)\n",
        "    if results['tracks']['items'] == []:\n",
        "        return None\n",
        "\n",
        "    results = results['tracks']['items'][0]\n",
        "    track_id = results['id']\n",
        "    audio_features = sp.audio_features(track_id)[0]\n",
        "\n",
        "    # Basic metadata\n",
        "    song_data['name'] = results['name']\n",
        "    song_data['artists'] = ', '.join([artist['name'] for artist in results['artists']])\n",
        "    song_data['year'] = year\n",
        "    song_data['duration_ms'] = results['duration_ms']\n",
        "    song_data['explicit'] = int(results['explicit'])\n",
        "\n",
        "    # Audio features\n",
        "    for key, value in audio_features.items():\n",
        "        if key in selected_features:\n",
        "            song_data[key] = value\n",
        "\n",
        "    return song_data"
      ]
    },
    {
      "cell_type": "code",
      "execution_count": 112,
      "metadata": {
        "id": "vHVy24eBH0Ep"
      },
      "outputs": [],
      "source": [
        "def recommend_songs_kmeans_with_api(song_names, songs_df, pca_model, scaler, kmeans_model, n_recommendations=10):\n",
        "    # Ensure 'cluster' column exists\n",
        "    if 'cluster' not in songs_df.columns:\n",
        "        raise KeyError(\"'cluster' column not found in songs_df. Ensure k-means clustering is performed.\")\n",
        "\n",
        "    clusters = []\n",
        "    input_song_names = []\n",
        "    new_songs = []  # Store newly added songs for dynamic clustering\n",
        "\n",
        "    for song_name, year in song_names:\n",
        "        matched_songs = songs_df[songs_df['name'].str.lower() == song_name.lower()]\n",
        "        if matched_songs.empty:\n",
        "            print(f\"Song '{song_name}' not found in the dataset. Fetching from Spotify...\")\n",
        "            # Attempt to fetch song from Spotify API\n",
        "            spotify_song_data = find_song_from_spotify(song_name, year)\n",
        "            if spotify_song_data:\n",
        "                new_songs.append(spotify_song_data)\n",
        "                print(f\"Added '{spotify_song_data['name']}' from Spotify.\")\n",
        "            else:\n",
        "                print(f\"Could not find '{song_name}' on Spotify.\")\n",
        "            continue\n",
        "\n",
        "        input_song_names.append(song_name.lower())\n",
        "        song_clusters = matched_songs['cluster'].unique()\n",
        "        clusters.extend(song_clusters)\n",
        "\n",
        "    # Dynamically cluster new songs (if any)\n",
        "    if new_songs:\n",
        "        new_songs_df = pd.DataFrame(new_songs)\n",
        "        scaled_new_features = scaler.transform(new_songs_df[selected_features])\n",
        "        pca_new_features = pca_model.transform(scaled_new_features)\n",
        "        new_clusters = kmeans_model.predict(pca_new_features)\n",
        "        new_songs_df['cluster'] = new_clusters\n",
        "        songs_df = pd.concat([songs_df, new_songs_df], ignore_index=True)\n",
        "        clusters.extend(new_clusters)\n",
        "\n",
        "    if not clusters:\n",
        "        print(\"No matching songs found in the dataset or Spotify.\")\n",
        "        return []\n",
        "\n",
        "    # Unique clusters\n",
        "    clusters = list(set(clusters))\n",
        "\n",
        "    # Songs in the same cluster(s)\n",
        "    recommended_songs = songs_df[songs_df['cluster'].isin(clusters)]\n",
        "\n",
        "    # Exclude input songs\n",
        "    recommended_songs = recommended_songs[~recommended_songs['name'].str.lower().isin(input_song_names)]\n",
        "\n",
        "    # Randomly select recommendations\n",
        "    recommended_songs = recommended_songs.sample(n=n_recommendations, random_state=42)\n",
        "    return recommended_songs[['name', 'year', 'artists', 'cluster']]"
      ]
    },
    {
      "cell_type": "code",
      "execution_count": 113,
      "metadata": {
        "colab": {
          "base_uri": "https://localhost:8080/"
        },
        "id": "5N8B3zctHLAy",
        "outputId": "608cad71-2202-423c-f723-f54f1af421c8"
      },
      "outputs": [
        {
          "output_type": "stream",
          "name": "stdout",
          "text": [
            "                          name  year  \\\n",
            "149854        Living Testimony  1991   \n",
            "12661                    Conga  1985   \n",
            "18269        How Country Feels  2013   \n",
            "90776            Volví a Nacer  2013   \n",
            "56847                   Casper  2018   \n",
            "34437            Brand New Key  1999   \n",
            "153866  Taking Pictures Of You  2011   \n",
            "52556              Nour El Ein  1996   \n",
            "63534       She Don't Love You  1962   \n",
            "65091        I Gotta Get Drunk  1970   \n",
            "\n",
            "                                          artists  cluster  \n",
            "149854             ['Doug Williams', 'Joe Ligon']        1  \n",
            "12661   ['Gloria Estefan', 'Miami Sound Machine']        1  \n",
            "18269                            ['Randy Houser']        1  \n",
            "90776                            ['Carlos Vives']        1  \n",
            "56847                                 ['Takeoff']        1  \n",
            "34437                                 ['Melanie']        1  \n",
            "153866                              ['The Kooks']        1  \n",
            "52556                                ['Amr Diab']        1  \n",
            "63534                              ['Mary Wells']        1  \n",
            "65091                           ['Willie Nelson']        1  \n"
          ]
        }
      ],
      "source": [
        "# Test input\n",
        "input_songs = [{'name': 'Come As You Are', 'year':1991},\n",
        "                {'name': 'Smells Like Teen Spirit', 'year': 1991},\n",
        "                {'name': 'Lithium', 'year': 1992},\n",
        "                {'name': 'All Apologies', 'year': 1993},\n",
        "                {'name': 'Stay Away', 'year': 1993}]\n",
        "\n",
        "recommendations = recommend_songs_kmeans_with_api(\n",
        "    input_songs,\n",
        "    songs_df,\n",
        "    pca_model=pca,\n",
        "    scaler=scaler,\n",
        "    kmeans_model=kmeans,\n",
        "    n_recommendations=10\n",
        ")\n",
        "\n",
        "# Display recommendations\n",
        "print(recommendations)"
      ]
    },
    {
      "cell_type": "markdown",
      "metadata": {
        "id": "r-K5cW4KPO1C"
      },
      "source": [
        "## Enhanced K-Means Model with Weighted Genre"
      ]
    },
    {
      "cell_type": "code",
      "execution_count": 94,
      "metadata": {
        "id": "JlDbyKsDPoj3"
      },
      "outputs": [],
      "source": [
        "# Import necessary libraries\n",
        "import pandas as pd\n",
        "import numpy as np\n",
        "from sklearn.preprocessing import StandardScaler, OneHotEncoder\n",
        "from scipy.spatial.distance import cdist\n",
        "from collections import defaultdict"
      ]
    },
    {
      "cell_type": "code",
      "execution_count": 95,
      "metadata": {
        "id": "Bn5auJsiQstw"
      },
      "outputs": [],
      "source": [
        "# Define feature columns\n",
        "number_cols = ['acousticness', 'danceability', 'energy', 'instrumentalness',\n",
        "               'liveness', 'loudness', 'speechiness', 'valence', 'tempo',\n",
        "               'duration_ms', 'key', 'mode']"
      ]
    },
    {
      "cell_type": "code",
      "execution_count": 96,
      "metadata": {
        "id": "2M0Jh3jYQuU3"
      },
      "outputs": [],
      "source": [
        "def classify_songs_by_genre(songs_df, genre_df, feature_columns):\n",
        "    \"\"\"\n",
        "    Assign each song in the songs_df to the closest genre based on shared features in genre_df.\n",
        "    \"\"\"\n",
        "    # Ensure all features are numeric and explicitly cast to float64\n",
        "    songs_df[feature_columns] = songs_df[feature_columns].apply(pd.to_numeric, errors='coerce').fillna(songs_df[feature_columns].mean())\n",
        "    genre_df[feature_columns] = genre_df[feature_columns].apply(pd.to_numeric, errors='coerce').fillna(genre_df[feature_columns].mean())\n",
        "\n",
        "    # Extract genre features and explicitly cast to float64\n",
        "    genre_features = genre_df[feature_columns].values.astype(np.float64)\n",
        "    classified_genres = []\n",
        "\n",
        "    for _, song in songs_df.iterrows():\n",
        "        # Extract features for the current song and explicitly cast to float64\n",
        "        song_features = song[feature_columns].values.reshape(1, -1).astype(np.float64)\n",
        "\n",
        "        # Compute distances between the song and all genres\n",
        "        distances = cdist(song_features, genre_features, metric='euclidean')\n",
        "\n",
        "        # Assign the closest genre\n",
        "        closest_genre_index = distances.argmin()\n",
        "        closest_genre = genre_df.iloc[closest_genre_index]['genres']\n",
        "        classified_genres.append(closest_genre)\n",
        "\n",
        "    # Add the classified genres to the songs DataFrame\n",
        "    songs_df['classified_genre'] = classified_genres\n",
        "    return songs_df"
      ]
    },
    {
      "cell_type": "code",
      "execution_count": 98,
      "metadata": {
        "id": "nCF8NrkwQ6Ih"
      },
      "outputs": [],
      "source": [
        "# Classify songs into different genres\n",
        "songs_with_genre_df = classify_songs_by_genre(songs_data, genre_data, number_cols)"
      ]
    },
    {
      "cell_type": "code",
      "execution_count": 102,
      "metadata": {
        "colab": {
          "base_uri": "https://localhost:8080/",
          "height": 496
        },
        "id": "m8jWqyqfSeku",
        "outputId": "bba69232-c494-4c4a-90de-4e44add04a35"
      },
      "outputs": [
        {
          "output_type": "execute_result",
          "data": {
            "text/plain": [
              "   valence  year  acousticness  \\\n",
              "0   0.0594  1921         0.982   \n",
              "1   0.9630  1921         0.732   \n",
              "2   0.0394  1921         0.961   \n",
              "3   0.1650  1921         0.967   \n",
              "4   0.2530  1921         0.957   \n",
              "\n",
              "                                             artists  danceability  \\\n",
              "0  ['Sergei Rachmaninoff', 'James Levine', 'Berli...         0.279   \n",
              "1                                     ['Dennis Day']         0.819   \n",
              "2  ['KHP Kridhamardawa Karaton Ngayogyakarta Hadi...         0.328   \n",
              "3                                   ['Frank Parker']         0.275   \n",
              "4                                     ['Phil Regan']         0.418   \n",
              "\n",
              "   duration_ms  energy  explicit                      id  instrumentalness  \\\n",
              "0       831667   0.211         0  4BJqT0PrAfrxzMOxytFOIz          0.878000   \n",
              "1       180533   0.341         0  7xPhfUan2yNtyFG0cUWkt8          0.000000   \n",
              "2       500062   0.166         0  1o6I8BglA6ylDMrIELygv1          0.913000   \n",
              "3       210000   0.309         0  3ftBPsC5vPBKxYSee08FDH          0.000028   \n",
              "4       166693   0.193         0  4d6HGyGT8e121BsdKmw9v6          0.000002   \n",
              "\n",
              "   key  liveness  loudness  mode  \\\n",
              "0   10     0.665   -20.096     1   \n",
              "1    7     0.160   -12.441     1   \n",
              "2    3     0.101   -14.850     1   \n",
              "3    5     0.381    -9.316     1   \n",
              "4    3     0.229   -10.096     1   \n",
              "\n",
              "                                                name  popularity release_date  \\\n",
              "0  Piano Concerto No. 3 in D Minor, Op. 30: III. ...           4         1921   \n",
              "1                            Clancy Lowered the Boom           5         1921   \n",
              "2                                          Gati Bali           5         1921   \n",
              "3                                          Danny Boy           3         1921   \n",
              "4                        When Irish Eyes Are Smiling           2         1921   \n",
              "\n",
              "   speechiness    tempo       classified_genre  \n",
              "0       0.0366   80.954         hungarian folk  \n",
              "1       0.4150   60.936             black punk  \n",
              "2       0.0339  110.339        modern big band  \n",
              "3       0.0354  100.109  italian mezzo-soprano  \n",
              "4       0.0380  101.665    vintage swedish pop  "
            ],
            "text/html": [
              "\n",
              "  <div id=\"df-1bec79a4-7f9c-4661-a2e8-9789da53107f\" class=\"colab-df-container\">\n",
              "    <div>\n",
              "<style scoped>\n",
              "    .dataframe tbody tr th:only-of-type {\n",
              "        vertical-align: middle;\n",
              "    }\n",
              "\n",
              "    .dataframe tbody tr th {\n",
              "        vertical-align: top;\n",
              "    }\n",
              "\n",
              "    .dataframe thead th {\n",
              "        text-align: right;\n",
              "    }\n",
              "</style>\n",
              "<table border=\"1\" class=\"dataframe\">\n",
              "  <thead>\n",
              "    <tr style=\"text-align: right;\">\n",
              "      <th></th>\n",
              "      <th>valence</th>\n",
              "      <th>year</th>\n",
              "      <th>acousticness</th>\n",
              "      <th>artists</th>\n",
              "      <th>danceability</th>\n",
              "      <th>duration_ms</th>\n",
              "      <th>energy</th>\n",
              "      <th>explicit</th>\n",
              "      <th>id</th>\n",
              "      <th>instrumentalness</th>\n",
              "      <th>key</th>\n",
              "      <th>liveness</th>\n",
              "      <th>loudness</th>\n",
              "      <th>mode</th>\n",
              "      <th>name</th>\n",
              "      <th>popularity</th>\n",
              "      <th>release_date</th>\n",
              "      <th>speechiness</th>\n",
              "      <th>tempo</th>\n",
              "      <th>classified_genre</th>\n",
              "    </tr>\n",
              "  </thead>\n",
              "  <tbody>\n",
              "    <tr>\n",
              "      <th>0</th>\n",
              "      <td>0.0594</td>\n",
              "      <td>1921</td>\n",
              "      <td>0.982</td>\n",
              "      <td>['Sergei Rachmaninoff', 'James Levine', 'Berli...</td>\n",
              "      <td>0.279</td>\n",
              "      <td>831667</td>\n",
              "      <td>0.211</td>\n",
              "      <td>0</td>\n",
              "      <td>4BJqT0PrAfrxzMOxytFOIz</td>\n",
              "      <td>0.878000</td>\n",
              "      <td>10</td>\n",
              "      <td>0.665</td>\n",
              "      <td>-20.096</td>\n",
              "      <td>1</td>\n",
              "      <td>Piano Concerto No. 3 in D Minor, Op. 30: III. ...</td>\n",
              "      <td>4</td>\n",
              "      <td>1921</td>\n",
              "      <td>0.0366</td>\n",
              "      <td>80.954</td>\n",
              "      <td>hungarian folk</td>\n",
              "    </tr>\n",
              "    <tr>\n",
              "      <th>1</th>\n",
              "      <td>0.9630</td>\n",
              "      <td>1921</td>\n",
              "      <td>0.732</td>\n",
              "      <td>['Dennis Day']</td>\n",
              "      <td>0.819</td>\n",
              "      <td>180533</td>\n",
              "      <td>0.341</td>\n",
              "      <td>0</td>\n",
              "      <td>7xPhfUan2yNtyFG0cUWkt8</td>\n",
              "      <td>0.000000</td>\n",
              "      <td>7</td>\n",
              "      <td>0.160</td>\n",
              "      <td>-12.441</td>\n",
              "      <td>1</td>\n",
              "      <td>Clancy Lowered the Boom</td>\n",
              "      <td>5</td>\n",
              "      <td>1921</td>\n",
              "      <td>0.4150</td>\n",
              "      <td>60.936</td>\n",
              "      <td>black punk</td>\n",
              "    </tr>\n",
              "    <tr>\n",
              "      <th>2</th>\n",
              "      <td>0.0394</td>\n",
              "      <td>1921</td>\n",
              "      <td>0.961</td>\n",
              "      <td>['KHP Kridhamardawa Karaton Ngayogyakarta Hadi...</td>\n",
              "      <td>0.328</td>\n",
              "      <td>500062</td>\n",
              "      <td>0.166</td>\n",
              "      <td>0</td>\n",
              "      <td>1o6I8BglA6ylDMrIELygv1</td>\n",
              "      <td>0.913000</td>\n",
              "      <td>3</td>\n",
              "      <td>0.101</td>\n",
              "      <td>-14.850</td>\n",
              "      <td>1</td>\n",
              "      <td>Gati Bali</td>\n",
              "      <td>5</td>\n",
              "      <td>1921</td>\n",
              "      <td>0.0339</td>\n",
              "      <td>110.339</td>\n",
              "      <td>modern big band</td>\n",
              "    </tr>\n",
              "    <tr>\n",
              "      <th>3</th>\n",
              "      <td>0.1650</td>\n",
              "      <td>1921</td>\n",
              "      <td>0.967</td>\n",
              "      <td>['Frank Parker']</td>\n",
              "      <td>0.275</td>\n",
              "      <td>210000</td>\n",
              "      <td>0.309</td>\n",
              "      <td>0</td>\n",
              "      <td>3ftBPsC5vPBKxYSee08FDH</td>\n",
              "      <td>0.000028</td>\n",
              "      <td>5</td>\n",
              "      <td>0.381</td>\n",
              "      <td>-9.316</td>\n",
              "      <td>1</td>\n",
              "      <td>Danny Boy</td>\n",
              "      <td>3</td>\n",
              "      <td>1921</td>\n",
              "      <td>0.0354</td>\n",
              "      <td>100.109</td>\n",
              "      <td>italian mezzo-soprano</td>\n",
              "    </tr>\n",
              "    <tr>\n",
              "      <th>4</th>\n",
              "      <td>0.2530</td>\n",
              "      <td>1921</td>\n",
              "      <td>0.957</td>\n",
              "      <td>['Phil Regan']</td>\n",
              "      <td>0.418</td>\n",
              "      <td>166693</td>\n",
              "      <td>0.193</td>\n",
              "      <td>0</td>\n",
              "      <td>4d6HGyGT8e121BsdKmw9v6</td>\n",
              "      <td>0.000002</td>\n",
              "      <td>3</td>\n",
              "      <td>0.229</td>\n",
              "      <td>-10.096</td>\n",
              "      <td>1</td>\n",
              "      <td>When Irish Eyes Are Smiling</td>\n",
              "      <td>2</td>\n",
              "      <td>1921</td>\n",
              "      <td>0.0380</td>\n",
              "      <td>101.665</td>\n",
              "      <td>vintage swedish pop</td>\n",
              "    </tr>\n",
              "  </tbody>\n",
              "</table>\n",
              "</div>\n",
              "    <div class=\"colab-df-buttons\">\n",
              "\n",
              "  <div class=\"colab-df-container\">\n",
              "    <button class=\"colab-df-convert\" onclick=\"convertToInteractive('df-1bec79a4-7f9c-4661-a2e8-9789da53107f')\"\n",
              "            title=\"Convert this dataframe to an interactive table.\"\n",
              "            style=\"display:none;\">\n",
              "\n",
              "  <svg xmlns=\"http://www.w3.org/2000/svg\" height=\"24px\" viewBox=\"0 -960 960 960\">\n",
              "    <path d=\"M120-120v-720h720v720H120Zm60-500h600v-160H180v160Zm220 220h160v-160H400v160Zm0 220h160v-160H400v160ZM180-400h160v-160H180v160Zm440 0h160v-160H620v160ZM180-180h160v-160H180v160Zm440 0h160v-160H620v160Z\"/>\n",
              "  </svg>\n",
              "    </button>\n",
              "\n",
              "  <style>\n",
              "    .colab-df-container {\n",
              "      display:flex;\n",
              "      gap: 12px;\n",
              "    }\n",
              "\n",
              "    .colab-df-convert {\n",
              "      background-color: #E8F0FE;\n",
              "      border: none;\n",
              "      border-radius: 50%;\n",
              "      cursor: pointer;\n",
              "      display: none;\n",
              "      fill: #1967D2;\n",
              "      height: 32px;\n",
              "      padding: 0 0 0 0;\n",
              "      width: 32px;\n",
              "    }\n",
              "\n",
              "    .colab-df-convert:hover {\n",
              "      background-color: #E2EBFA;\n",
              "      box-shadow: 0px 1px 2px rgba(60, 64, 67, 0.3), 0px 1px 3px 1px rgba(60, 64, 67, 0.15);\n",
              "      fill: #174EA6;\n",
              "    }\n",
              "\n",
              "    .colab-df-buttons div {\n",
              "      margin-bottom: 4px;\n",
              "    }\n",
              "\n",
              "    [theme=dark] .colab-df-convert {\n",
              "      background-color: #3B4455;\n",
              "      fill: #D2E3FC;\n",
              "    }\n",
              "\n",
              "    [theme=dark] .colab-df-convert:hover {\n",
              "      background-color: #434B5C;\n",
              "      box-shadow: 0px 1px 3px 1px rgba(0, 0, 0, 0.15);\n",
              "      filter: drop-shadow(0px 1px 2px rgba(0, 0, 0, 0.3));\n",
              "      fill: #FFFFFF;\n",
              "    }\n",
              "  </style>\n",
              "\n",
              "    <script>\n",
              "      const buttonEl =\n",
              "        document.querySelector('#df-1bec79a4-7f9c-4661-a2e8-9789da53107f button.colab-df-convert');\n",
              "      buttonEl.style.display =\n",
              "        google.colab.kernel.accessAllowed ? 'block' : 'none';\n",
              "\n",
              "      async function convertToInteractive(key) {\n",
              "        const element = document.querySelector('#df-1bec79a4-7f9c-4661-a2e8-9789da53107f');\n",
              "        const dataTable =\n",
              "          await google.colab.kernel.invokeFunction('convertToInteractive',\n",
              "                                                    [key], {});\n",
              "        if (!dataTable) return;\n",
              "\n",
              "        const docLinkHtml = 'Like what you see? Visit the ' +\n",
              "          '<a target=\"_blank\" href=https://colab.research.google.com/notebooks/data_table.ipynb>data table notebook</a>'\n",
              "          + ' to learn more about interactive tables.';\n",
              "        element.innerHTML = '';\n",
              "        dataTable['output_type'] = 'display_data';\n",
              "        await google.colab.output.renderOutput(dataTable, element);\n",
              "        const docLink = document.createElement('div');\n",
              "        docLink.innerHTML = docLinkHtml;\n",
              "        element.appendChild(docLink);\n",
              "      }\n",
              "    </script>\n",
              "  </div>\n",
              "\n",
              "\n",
              "<div id=\"df-65bec131-5931-4600-8460-ea197852bf32\">\n",
              "  <button class=\"colab-df-quickchart\" onclick=\"quickchart('df-65bec131-5931-4600-8460-ea197852bf32')\"\n",
              "            title=\"Suggest charts\"\n",
              "            style=\"display:none;\">\n",
              "\n",
              "<svg xmlns=\"http://www.w3.org/2000/svg\" height=\"24px\"viewBox=\"0 0 24 24\"\n",
              "     width=\"24px\">\n",
              "    <g>\n",
              "        <path d=\"M19 3H5c-1.1 0-2 .9-2 2v14c0 1.1.9 2 2 2h14c1.1 0 2-.9 2-2V5c0-1.1-.9-2-2-2zM9 17H7v-7h2v7zm4 0h-2V7h2v10zm4 0h-2v-4h2v4z\"/>\n",
              "    </g>\n",
              "</svg>\n",
              "  </button>\n",
              "\n",
              "<style>\n",
              "  .colab-df-quickchart {\n",
              "      --bg-color: #E8F0FE;\n",
              "      --fill-color: #1967D2;\n",
              "      --hover-bg-color: #E2EBFA;\n",
              "      --hover-fill-color: #174EA6;\n",
              "      --disabled-fill-color: #AAA;\n",
              "      --disabled-bg-color: #DDD;\n",
              "  }\n",
              "\n",
              "  [theme=dark] .colab-df-quickchart {\n",
              "      --bg-color: #3B4455;\n",
              "      --fill-color: #D2E3FC;\n",
              "      --hover-bg-color: #434B5C;\n",
              "      --hover-fill-color: #FFFFFF;\n",
              "      --disabled-bg-color: #3B4455;\n",
              "      --disabled-fill-color: #666;\n",
              "  }\n",
              "\n",
              "  .colab-df-quickchart {\n",
              "    background-color: var(--bg-color);\n",
              "    border: none;\n",
              "    border-radius: 50%;\n",
              "    cursor: pointer;\n",
              "    display: none;\n",
              "    fill: var(--fill-color);\n",
              "    height: 32px;\n",
              "    padding: 0;\n",
              "    width: 32px;\n",
              "  }\n",
              "\n",
              "  .colab-df-quickchart:hover {\n",
              "    background-color: var(--hover-bg-color);\n",
              "    box-shadow: 0 1px 2px rgba(60, 64, 67, 0.3), 0 1px 3px 1px rgba(60, 64, 67, 0.15);\n",
              "    fill: var(--button-hover-fill-color);\n",
              "  }\n",
              "\n",
              "  .colab-df-quickchart-complete:disabled,\n",
              "  .colab-df-quickchart-complete:disabled:hover {\n",
              "    background-color: var(--disabled-bg-color);\n",
              "    fill: var(--disabled-fill-color);\n",
              "    box-shadow: none;\n",
              "  }\n",
              "\n",
              "  .colab-df-spinner {\n",
              "    border: 2px solid var(--fill-color);\n",
              "    border-color: transparent;\n",
              "    border-bottom-color: var(--fill-color);\n",
              "    animation:\n",
              "      spin 1s steps(1) infinite;\n",
              "  }\n",
              "\n",
              "  @keyframes spin {\n",
              "    0% {\n",
              "      border-color: transparent;\n",
              "      border-bottom-color: var(--fill-color);\n",
              "      border-left-color: var(--fill-color);\n",
              "    }\n",
              "    20% {\n",
              "      border-color: transparent;\n",
              "      border-left-color: var(--fill-color);\n",
              "      border-top-color: var(--fill-color);\n",
              "    }\n",
              "    30% {\n",
              "      border-color: transparent;\n",
              "      border-left-color: var(--fill-color);\n",
              "      border-top-color: var(--fill-color);\n",
              "      border-right-color: var(--fill-color);\n",
              "    }\n",
              "    40% {\n",
              "      border-color: transparent;\n",
              "      border-right-color: var(--fill-color);\n",
              "      border-top-color: var(--fill-color);\n",
              "    }\n",
              "    60% {\n",
              "      border-color: transparent;\n",
              "      border-right-color: var(--fill-color);\n",
              "    }\n",
              "    80% {\n",
              "      border-color: transparent;\n",
              "      border-right-color: var(--fill-color);\n",
              "      border-bottom-color: var(--fill-color);\n",
              "    }\n",
              "    90% {\n",
              "      border-color: transparent;\n",
              "      border-bottom-color: var(--fill-color);\n",
              "    }\n",
              "  }\n",
              "</style>\n",
              "\n",
              "  <script>\n",
              "    async function quickchart(key) {\n",
              "      const quickchartButtonEl =\n",
              "        document.querySelector('#' + key + ' button');\n",
              "      quickchartButtonEl.disabled = true;  // To prevent multiple clicks.\n",
              "      quickchartButtonEl.classList.add('colab-df-spinner');\n",
              "      try {\n",
              "        const charts = await google.colab.kernel.invokeFunction(\n",
              "            'suggestCharts', [key], {});\n",
              "      } catch (error) {\n",
              "        console.error('Error during call to suggestCharts:', error);\n",
              "      }\n",
              "      quickchartButtonEl.classList.remove('colab-df-spinner');\n",
              "      quickchartButtonEl.classList.add('colab-df-quickchart-complete');\n",
              "    }\n",
              "    (() => {\n",
              "      let quickchartButtonEl =\n",
              "        document.querySelector('#df-65bec131-5931-4600-8460-ea197852bf32 button');\n",
              "      quickchartButtonEl.style.display =\n",
              "        google.colab.kernel.accessAllowed ? 'block' : 'none';\n",
              "    })();\n",
              "  </script>\n",
              "</div>\n",
              "\n",
              "    </div>\n",
              "  </div>\n"
            ],
            "application/vnd.google.colaboratory.intrinsic+json": {
              "type": "dataframe",
              "variable_name": "songs_with_genre_df"
            }
          },
          "metadata": {},
          "execution_count": 102
        }
      ],
      "source": [
        "songs_with_genre_df.head()"
      ]
    },
    {
      "cell_type": "code",
      "source": [
        "from sklearn.preprocessing import StandardScaler, LabelEncoder\n",
        "\n",
        "# Encode the 'classified_genre' column into numeric values\n",
        "label_encoder = LabelEncoder()\n",
        "songs_with_genre_df['classified_genre_encoded'] = label_encoder.fit_transform(songs_with_genre_df['classified_genre'])\n",
        "\n",
        "# Update the feature list\n",
        "selected_features_with_genre = ['acousticness', 'danceability', 'energy', 'instrumentalness',\n",
        "                                'liveness', 'loudness', 'speechiness', 'valence', 'tempo',\n",
        "                                'duration_ms', 'key', 'mode', 'classified_genre_encoded'] # use encoded classfied_genre(convert string to float)\n",
        "\n",
        "# Standardize the Features\n",
        "scaler = StandardScaler()\n",
        "scaled_features = scaler.fit_transform(songs_with_genre_df[selected_features_with_genre])\n",
        "\n",
        "# Apply PCA\n",
        "pca_genre = PCA(n_components=0.95, random_state=42)  # 95% variance threshold\n",
        "pca_features_with_genre = pca_genre.fit_transform(scaled_features)\n",
        "\n",
        "# Calculate Explained Variance\n",
        "explained_variance_genre_enhanced = pca_genre.explained_variance_ratio_\n",
        "cumulative_variance_genre_enhanced = np.cumsum(explained_variance_genre_enhanced)\n",
        "\n",
        "print(f\"Number of components selected: {pca_genre.n_components_}\")\n",
        "print(f\"Explained variance ratio: {pca_genre.explained_variance_ratio_}\")"
      ],
      "metadata": {
        "colab": {
          "base_uri": "https://localhost:8080/"
        },
        "id": "ewqKwY5f6FaW",
        "outputId": "7c5f7062-75b9-4562-c58f-a40a32d7de79"
      },
      "execution_count": 107,
      "outputs": [
        {
          "output_type": "stream",
          "name": "stdout",
          "text": [
            "Number of components selected: 11\n",
            "Explained variance ratio: [0.23751943 0.11537844 0.09064819 0.08530589 0.07720391 0.07484996\n",
            " 0.06944568 0.06635613 0.06359495 0.05320371 0.02959504]\n"
          ]
        }
      ]
    },
    {
      "cell_type": "code",
      "source": [
        "# apply k-means clustering\n",
        "optimal_k = 8\n",
        "kmeans = KMeans(n_clusters=optimal_k, random_state=42)\n",
        "kmeans.fit(pca_features_with_genre)\n",
        "\n",
        "# Assign clusters to the original DataFrame\n",
        "songs_with_genre_df['cluster'] = kmeans.labels_"
      ],
      "metadata": {
        "id": "dMWe1eU1J8gg"
      },
      "execution_count": 108,
      "outputs": []
    },
    {
      "cell_type": "code",
      "source": [
        "# Test input\n",
        "input_songs = [{'name': 'Come As You Are', 'year':1991},\n",
        "                {'name': 'Smells Like Teen Spirit', 'year': 1991},\n",
        "                {'name': 'Lithium', 'year': 1992},\n",
        "                {'name': 'All Apologies', 'year': 1993},\n",
        "                {'name': 'Stay Away', 'year': 1993}]\n",
        "\n",
        "recommendations = recommend_songs_kmeans_with_api(\n",
        "    input_songs,\n",
        "    songs_with_genre_df,\n",
        "    pca_model=pca_genre,\n",
        "    scaler=scaler,\n",
        "    kmeans_model=kmeans,\n",
        "    n_recommendations=10\n",
        ")\n",
        "\n",
        "# Display recommendations\n",
        "print(recommendations)"
      ],
      "metadata": {
        "colab": {
          "base_uri": "https://localhost:8080/"
        },
        "id": "1PfSbQqkJWQI",
        "outputId": "7a8688e3-5238-42d0-f561-dc450ed81299"
      },
      "execution_count": 114,
      "outputs": [
        {
          "output_type": "stream",
          "name": "stdout",
          "text": [
            "                                                name  year  \\\n",
            "145878  I've Got so Much Trouble in My Mind (7\" Mix)  1971   \n",
            "52697                                        Rickets  1997   \n",
            "55581                                 Hit The Lights  2011   \n",
            "102505                           Hoochie Coochie Man  1989   \n",
            "169834                 Growing Up (feat. Ed Sheeran)  2016   \n",
            "107112                                       Demente  2012   \n",
            "119324                     Did You Ever Look so Nice  1992   \n",
            "88920                          Calm Before the Storm  2003   \n",
            "127211                        Sarvangi Sowas Pari Tu  1952   \n",
            "53063                                      Privilege  1999   \n",
            "\n",
            "                                           artists  cluster  \n",
            "145878          ['Sir Joe Quarterman & Free Soul']        1  \n",
            "52697                                 ['Deftones']        1  \n",
            "55581                 ['Selena Gomez & The Scene']        1  \n",
            "102505                    ['The Jeff Healey Band']        1  \n",
            "169834  ['Macklemore', 'Ryan Lewis', 'Ed Sheeran']        1  \n",
            "107112          ['Tercer Cielo', 'Annette Moreno']        1  \n",
            "119324                             ['The Samples']        1  \n",
            "88920                             ['Fall Out Boy']        1  \n",
            "127211                        ['Marutibuva Bagde']        1  \n",
            "53063                                  ['Incubus']        1  \n"
          ]
        }
      ]
    },
    {
      "cell_type": "markdown",
      "source": [
        "## Weighted Vector Model with Cosine Similarity - Not yet complete"
      ],
      "metadata": {
        "id": "wPrUnU6Q6Ewk"
      }
    },
    {
      "cell_type": "code",
      "execution_count": null,
      "metadata": {
        "id": "nbr3q8EpTnKp"
      },
      "outputs": [],
      "source": [
        "def add_genre_vector(songs_df):\n",
        "    \"\"\"\n",
        "    Add one-hot encoded genre vectors to the songs dataset.\n",
        "    \"\"\"\n",
        "    # One-hot encode the genres\n",
        "    genre_encoder = OneHotEncoder(sparse_output=False)\n",
        "    genre_encoded = genre_encoder.fit_transform(songs_df[['classified_genre']])\n",
        "    songs_df['genre_vector'] = list(genre_encoded)\n",
        "    return songs_df, genre_encoder\n",
        "\n",
        "# Add genre vectors\n",
        "songs_df, genre_encoder = add_genre_vector(songs_df)"
      ]
    },
    {
      "cell_type": "code",
      "execution_count": null,
      "metadata": {
        "id": "JvfqgwgFU6gt"
      },
      "outputs": [],
      "source": [
        "# Define feature weights\n",
        "feature_weights = {\n",
        "    'valence': 1.0,\n",
        "    'year': 0.5,\n",
        "    'acousticness': 1.0,\n",
        "    'danceability': 1.5,\n",
        "    'duration_ms': 0.5,\n",
        "    'energy': 2.0,\n",
        "    'explicit': 0.1,\n",
        "    'instrumentalness': 1.0,\n",
        "    'key': 0.2,\n",
        "    'liveness': 1.0,\n",
        "    'loudness': 1.5,\n",
        "    'mode': 0.5,\n",
        "    'popularity': 1.0,\n",
        "    'speechiness': 1.0,\n",
        "    'tempo': 1.5,\n",
        "    'genre': 1.0  # Weight for genre vector\n",
        "}\n",
        "\n",
        "def get_song_vector_with_weights(song, spotify_data, feature_weights):\n",
        "    \"\"\"\n",
        "    Retrieve the combined song vector (features + genre) with applied weights.\n",
        "    If the song is not found in the dataset, fetch it from Spotify API.\n",
        "    \"\"\"\n",
        "    try:\n",
        "        # Try to retrieve the song from the dataset\n",
        "        song_data = spotify_data[(spotify_data['name'].str.lower() == song['name'].lower()) &\n",
        "                                 (spotify_data['year'] == song['year'])].iloc[0]\n",
        "    except IndexError:\n",
        "        # Song not found in dataset, fetch from Spotify API\n",
        "        print(f\"Fetching '{song['name']}' from Spotify API...\")\n",
        "        song_data = find_song_from_spotify(song['name'], song['year'])\n",
        "        if song_data is None:\n",
        "            print(f\"Could not find '{song['name']}' on Spotify.\")\n",
        "            return None\n",
        "\n",
        "    # Combine numerical features and genre vector\n",
        "    feature_vector = song_data[number_cols].values if isinstance(song_data, pd.Series) else song_data[number_cols].to_numpy()\n",
        "    genre_vector = np.zeros(len(spotify_data['genre_vector'].iloc[0]))  # Default no genre vector if fetched from API\n",
        "    if 'genre_vector' in song_data and isinstance(song_data['genre_vector'], np.ndarray):\n",
        "        genre_vector = np.array(song_data['genre_vector'])\n",
        "\n",
        "    combined_vector = np.concatenate([feature_vector, genre_vector])\n",
        "\n",
        "    # Apply weights to the vector\n",
        "    weighted_features = np.array([feature_vector[i] * feature_weights[col] for i, col in enumerate(number_cols)])\n",
        "    weighted_genre = genre_vector * feature_weights['genre']\n",
        "    return np.concatenate([weighted_features, weighted_genre])"
      ]
    },
    {
      "cell_type": "code",
      "execution_count": null,
      "metadata": {
        "id": "hs-eA4QzU_QO"
      },
      "outputs": [],
      "source": [
        "def get_weighted_average_vector(song_list, spotify_data, feature_weights):\n",
        "    \"\"\"\n",
        "    Compute a weighted average vector for the input songs, including genre influence.\n",
        "    \"\"\"\n",
        "    vectors = []\n",
        "    weights = []\n",
        "\n",
        "    for song in song_list:\n",
        "        try:\n",
        "            # Try to retrieve the combined song vector\n",
        "            song_vector = get_song_vector_with_weights(song, spotify_data, feature_weights)\n",
        "            if song_vector is not None:\n",
        "                vectors.append(song_vector)\n",
        "                weights.append(1.0)  # Adjust weights dynamically if needed\n",
        "        except Exception as e:\n",
        "            print(f\"Warning: Could not process '{song['name']}' due to {e}. Skipping...\")\n",
        "            continue\n",
        "\n",
        "    if len(vectors) == 0:\n",
        "        raise ValueError(\"No valid song vectors found.\")\n",
        "\n",
        "    vectors = np.vstack(vectors)\n",
        "    weights = np.array(weights).reshape(-1, 1)\n",
        "    return np.average(vectors, axis=0, weights=weights.flatten())"
      ]
    },
    {
      "cell_type": "code",
      "execution_count": null,
      "metadata": {
        "id": "szVsPd5NVFdC"
      },
      "outputs": [],
      "source": [
        "def recommend_songs_with_genre(song_list, spotify_data, n_songs=10):\n",
        "    \"\"\"\n",
        "    Recommend songs based on weighted vectors and genre influence.\n",
        "    \"\"\"\n",
        "    metadata_cols = ['name', 'year', 'artists', 'classified_genre']\n",
        "\n",
        "    # Step 1: Compute the weighted average vector for the input songs\n",
        "    song_center = get_weighted_average_vector(song_list, spotify_data, feature_weights)\n",
        "\n",
        "    # Step 2: Scale only the numerical features\n",
        "    scaler = StandardScaler()\n",
        "    scaled_data = scaler.fit_transform(spotify_data[number_cols])  # Scale numerical features\n",
        "    scaled_song_center = scaler.transform([song_center[:len(number_cols)]])  # Scale only the numerical part of the input vector\n",
        "\n",
        "    # Step 3: Combine scaled numerical features with genre vectors\n",
        "    genre_vectors = np.array(list(spotify_data['genre_vector']))\n",
        "    combined_data = np.hstack([scaled_data, genre_vectors])  # Combine scaled numerical and genre vectors\n",
        "    combined_song_center = np.hstack([scaled_song_center[0], song_center[len(number_cols):]])  # Combine input features\n",
        "\n",
        "    # Step 4: Compute distances and find nearest songs\n",
        "    distances = cdist([combined_song_center], combined_data, 'cosine')\n",
        "    index = list(np.argsort(distances)[:, :n_songs][0])\n",
        "\n",
        "    # Exclude input songs from recommendations\n",
        "    rec_songs = spotify_data.iloc[index]\n",
        "    rec_songs = rec_songs[~rec_songs['name'].isin([song['name'] for song in song_list])]\n",
        "    return rec_songs[metadata_cols].to_dict(orient='records')\n"
      ]
    },
    {
      "cell_type": "code",
      "execution_count": null,
      "metadata": {
        "id": "7ZO7H1r7VHpG"
      },
      "outputs": [],
      "source": [
        "# Test input songs\n",
        "input_songs = [{'name': 'Come As You Are', 'year':1991},\n",
        "                {'name': 'Smells Like Teen Spirit', 'year': 1991},\n",
        "                {'name': 'Lithium', 'year': 1992},\n",
        "                {'name': 'All Apologies', 'year': 1993},\n",
        "                {'name': 'Stay Away', 'year': 1993}\n",
        "               ]\n",
        "\n",
        "# Get recommendations\n",
        "recommendations = recommend_songs_with_genre(input_songs, songs_df, n_songs=10)\n",
        "\n",
        "# Convert recommendations to a DataFrame\n",
        "recommendations_df = pd.DataFrame(recommendations)\n",
        "\n",
        "# Display the DataFrame\n",
        "print(recommendations_df)"
      ]
    },
    {
      "cell_type": "code",
      "execution_count": null,
      "metadata": {
        "id": "S92aHCpaVhNl"
      },
      "outputs": [],
      "source": []
    }
  ],
  "metadata": {
    "colab": {
      "provenance": []
    },
    "kernelspec": {
      "display_name": "Python 3",
      "name": "python3"
    },
    "language_info": {
      "name": "python"
    }
  },
  "nbformat": 4,
  "nbformat_minor": 0
}